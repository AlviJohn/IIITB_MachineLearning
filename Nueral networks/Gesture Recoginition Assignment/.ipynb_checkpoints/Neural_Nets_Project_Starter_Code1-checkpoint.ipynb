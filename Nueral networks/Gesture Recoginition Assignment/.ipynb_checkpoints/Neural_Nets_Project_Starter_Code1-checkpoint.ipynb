{
 "cells": [
  {
   "cell_type": "markdown",
   "metadata": {},
   "source": [
    "# Gesture Recognition\n",
    "In this group project, you are going to build a 3D Conv model that will be able to predict the 5 gestures correctly. Please import the following libraries to get started."
   ]
  },
  {
   "cell_type": "code",
   "execution_count": 1,
   "metadata": {},
   "outputs": [
    {
     "name": "stderr",
     "output_type": "stream",
     "text": [
      "Using TensorFlow backend.\n"
     ]
    }
   ],
   "source": [
    "import numpy as np\n",
    "import os\n",
    "from scipy.misc import imread, imresize\n",
    "import datetime\n",
    "import os\n",
    "\n",
    "from keras.preprocessing.image import load_img\n",
    "from keras.preprocessing.image import img_to_array\n",
    "from keras.applications.vgg16 import preprocess_input"
   ]
  },
  {
   "cell_type": "markdown",
   "metadata": {},
   "source": [
    "We set the random seed so that the results don't vary drastically."
   ]
  },
  {
   "cell_type": "code",
   "execution_count": 2,
   "metadata": {
    "collapsed": true
   },
   "outputs": [],
   "source": [
    "np.random.seed(30)\n",
    "import random as rn\n",
    "rn.seed(30)\n",
    "from keras import backend as K\n",
    "import tensorflow as tf\n",
    "tf.set_random_seed(30)"
   ]
  },
  {
   "cell_type": "markdown",
   "metadata": {},
   "source": [
    "In this block, you read the folder names for training and validation. You also set the `batch_size` here. Note that you set the batch size in such a way that you are able to use the GPU in full capacity. You keep increasing the batch size until the machine throws an error."
   ]
  },
  {
   "cell_type": "code",
   "execution_count": 3,
   "metadata": {
    "collapsed": true
   },
   "outputs": [],
   "source": [
    "train_doc = np.random.permutation(open('/mnt/DATA/Project_data/train.csv').readlines())\n",
    "val_doc = np.random.permutation(open('/mnt/DATA/Project_data/val.csv').readlines())\n",
    "batch_size = 5"
   ]
  },
  {
   "cell_type": "markdown",
   "metadata": {},
   "source": [
    "## Generator\n",
    "This is one of the most important part of the code. The overall structure of the generator has been given. In the generator, you are going to preprocess the images as you have images of 2 different dimensions as well as create a batch of video frames. You have to experiment with `img_idx`, `y`,`z` and normalization such that you get high accuracy."
   ]
  },
  {
   "cell_type": "code",
   "execution_count": 4,
   "metadata": {
    "collapsed": true
   },
   "outputs": [],
   "source": [
    "def generator(source_path, folder_list, batch_size):\n",
    "    print( 'Source path = ', source_path, '; batch size =', batch_size)\n",
    "    img_idx = list(range(0,30))\n",
    "    while True:\n",
    "        t = np.random.permutation(folder_list) \n",
    "        print(t.shape)\n",
    "        num_batches = int(t.shape[0]/batch_size)\n",
    "        for batch in range(num_batches): # we iterate over the number of batches\n",
    "            batch_data = np.zeros((batch_size,30,224,224,3)) # x is the number of images you use for each video, (y,z) is the final size of the input images and 3 is the number of channels RGB\n",
    "            batch_labels = np.zeros((batch_size,5)) # batch_labels is the one hot representation of the output\n",
    "            for folder in range(batch_size): # iterate over the batch_size\n",
    "                imgs = os.listdir(source_path+'/'+ t[folder + (batch*batch_size)].split(';')[0]) # read all the images in the folder\n",
    "                for idx,item in enumerate(img_idx): #  Iterate iver the frames/images of a folder to read them in\n",
    "                    image = load_img(source_path+'/'+ t[folder + (batch*batch_size)].strip().split(';')[0]+'/'+imgs[item], target_size=(224, 224))\n",
    "                    \n",
    "                    image = img_to_array(image)\n",
    "                    image = preprocess_input(image)\n",
    "                    \n",
    "                    batch_data[folder,idx,:,:,0] = image[:,:,0]\n",
    "                    batch_data[folder,idx,:,:,1] = image[:,:,1]\n",
    "                    batch_data[folder,idx,:,:,2] = image[:,:,2]\n",
    "\n",
    "                batch_labels[folder, int(t[folder + (batch*batch_size)].strip().split(';')[2])] = 1\n",
    "            yield batch_data, batch_labels\n",
    "\n",
    "        \n",
    "        # write the code for the remaining data points which are left after full batches\n"
   ]
  },
  {
   "cell_type": "markdown",
   "metadata": {},
   "source": [
    "Note here that a video is represented above in the generator as (number of images, height, width, number of channels). Take this into consideration while creating the model architecture."
   ]
  },
  {
   "cell_type": "code",
   "execution_count": 5,
   "metadata": {},
   "outputs": [
    {
     "name": "stdout",
     "output_type": "stream",
     "text": [
      "# training sequences = 663\n",
      "# validation sequences = 100\n",
      "# epochs = 40\n"
     ]
    }
   ],
   "source": [
    "curr_dt_time = datetime.datetime.now()\n",
    "train_path = '/mnt/DATA/Project_data/train'\n",
    "val_path = '/mnt/DATA/Project_data/val'\n",
    "num_train_sequences = len(train_doc)\n",
    "print('# training sequences =', num_train_sequences)\n",
    "num_val_sequences = len(val_doc)\n",
    "print('# validation sequences =', num_val_sequences)\n",
    "num_epochs = 40\n",
    "print ('# epochs =', num_epochs)\n"
   ]
  },
  {
   "cell_type": "markdown",
   "metadata": {},
   "source": [
    "## Model\n",
    "Here you make the model using different functionalities that Keras provides. Remember to use `Conv3D` and `MaxPooling3D` and not `Conv2D` and `Maxpooling2D` for a 3D convolution model. You would want to use `TimeDistributed` while building a Conv2D + RNN model. Also remember that the last layer is the softmax. Design the network in such a way that the model is able to give good accuracy on the least number of parameters so that it can fit in the memory of the webcam."
   ]
  },
  {
   "cell_type": "code",
   "execution_count": 6,
   "metadata": {},
   "outputs": [
    {
     "name": "stderr",
     "output_type": "stream",
     "text": [
      "/opt/conda/lib/python3.6/site-packages/ipykernel_launcher.py:38: UserWarning: Update your `Model` call to the Keras 2 API: `Model(inputs=Tensor(\"in..., outputs=[<tf.Tenso...)`\n"
     ]
    },
    {
     "name": "stdout",
     "output_type": "stream",
     "text": [
      "_________________________________________________________________\n",
      "Layer (type)                 Output Shape              Param #   \n",
      "=================================================================\n",
      "input_1 (InputLayer)         (None, 30, 224, 224, 3)   0         \n",
      "_________________________________________________________________\n",
      "time_distributed_1 (TimeDist (None, 30, 4096)          134260544 \n",
      "_________________________________________________________________\n",
      "bidirectional_1 (Bidirection (None, 30, 1024)          14158848  \n",
      "_________________________________________________________________\n",
      "bidirectional_2 (Bidirection (None, 20)                62100     \n",
      "_________________________________________________________________\n",
      "dense_1 (Dense)              (None, 512)               10752     \n",
      "_________________________________________________________________\n",
      "dense_2 (Dense)              (None, 5)                 2565      \n",
      "=================================================================\n",
      "Total params: 148,494,809\n",
      "Trainable params: 14,234,265\n",
      "Non-trainable params: 134,260,544\n",
      "_________________________________________________________________\n"
     ]
    },
    {
     "name": "stderr",
     "output_type": "stream",
     "text": [
      "/opt/conda/lib/python3.6/site-packages/ipykernel_launcher.py:44: UserWarning: Update your `Dense` call to the Keras 2 API: `Dense(activation=\"relu\", units=512)`\n",
      "/opt/conda/lib/python3.6/site-packages/ipykernel_launcher.py:45: UserWarning: Update your `Dense` call to the Keras 2 API: `Dense(activation=\"softmax\", units=5)`\n"
     ]
    }
   ],
   "source": [
    "from keras.models import Sequential, Model\n",
    "from keras.layers import Dense, GRU, Flatten, TimeDistributed, Flatten, BatchNormalization, Activation\n",
    "from keras.layers.convolutional import Conv3D, MaxPooling3D\n",
    "from keras.callbacks import ModelCheckpoint, ReduceLROnPlateau\n",
    "from keras import optimizers\n",
    "\n",
    "from keras.layers import Dense, Input , Bidirectional\n",
    "from keras.applications.vgg16 import vgg16\n",
    "from keras import optimizers\n",
    "\n",
    "\n",
    "frames=30\n",
    "channels=3\n",
    "rows=224\n",
    "columns=224\n",
    "\n",
    "video = Input(shape=(frames,\n",
    "                     columns,\n",
    "                     rows,\n",
    "                     channels))\n",
    "\n",
    "\n",
    "\n",
    "\n",
    "HIDDEN_UNITS=512\n",
    "classes=5\n",
    "\n",
    "\n",
    "vgg16_model = vgg16.VGG16(include_top=True, weights='imagenet')\n",
    "vgg16_model.layers.pop()\n",
    "vgg16_model.outputs = [vgg16_model.layers[-1].output]\n",
    "vgg16_model.layers[-1].outbound_nodes = []\n",
    "all_layers = vgg16_model.layers\n",
    "\n",
    "for i in all_layers:\n",
    "     i.trainable = False\n",
    "\n",
    "cnn = Model(input=vgg16_model.input, output=vgg16_model.outputs)\n",
    "\n",
    "encoded_frames = TimeDistributed(cnn)(video)\n",
    "#print(encoded_frames)\n",
    "encoded_sequence = Bidirectional(GRU(units=HIDDEN_UNITS, return_sequences=True))(encoded_frames)\n",
    "encoded_embed = Bidirectional(GRU(10))(encoded_sequence)\n",
    "hidden_layer = Dense(output_dim=HIDDEN_UNITS, activation=\"relu\")(encoded_embed)\n",
    "outputs = Dense(output_dim=classes, activation=\"softmax\")(hidden_layer)\n",
    "model = Model([video], outputs)\n",
    "\n",
    "model.summary()\n",
    "\n",
    "\n",
    "\n",
    "\n",
    "\n",
    "\n",
    "\n",
    "#write your model here"
   ]
  },
  {
   "cell_type": "markdown",
   "metadata": {},
   "source": [
    "Now that you have written the model, the next step is to `compile` the model. When you print the `summary` of the model, you'll see the total number of parameters you have to train."
   ]
  },
  {
   "cell_type": "code",
   "execution_count": 7,
   "metadata": {
    "scrolled": true
   },
   "outputs": [
    {
     "name": "stdout",
     "output_type": "stream",
     "text": [
      "_________________________________________________________________\n",
      "Layer (type)                 Output Shape              Param #   \n",
      "=================================================================\n",
      "input_1 (InputLayer)         (None, 30, 224, 224, 3)   0         \n",
      "_________________________________________________________________\n",
      "time_distributed_1 (TimeDist (None, 30, 4096)          134260544 \n",
      "_________________________________________________________________\n",
      "bidirectional_1 (Bidirection (None, 30, 1024)          14158848  \n",
      "_________________________________________________________________\n",
      "bidirectional_2 (Bidirection (None, 20)                62100     \n",
      "_________________________________________________________________\n",
      "dense_1 (Dense)              (None, 512)               10752     \n",
      "_________________________________________________________________\n",
      "dense_2 (Dense)              (None, 5)                 2565      \n",
      "=================================================================\n",
      "Total params: 148,494,809\n",
      "Trainable params: 14,234,265\n",
      "Non-trainable params: 134,260,544\n",
      "_________________________________________________________________\n",
      "None\n"
     ]
    }
   ],
   "source": [
    "sgd = optimizers.SGD(lr=0.01, decay=1e-6, momentum=0.9, nesterov=True)\n",
    "model.compile(optimizer=sgd, loss='categorical_crossentropy', metrics=['categorical_accuracy'])\n",
    "print (model.summary())"
   ]
  },
  {
   "cell_type": "markdown",
   "metadata": {},
   "source": [
    "Let us create the `train_generator` and the `val_generator` which will be used in `.fit_generator`."
   ]
  },
  {
   "cell_type": "code",
   "execution_count": 8,
   "metadata": {
    "collapsed": true
   },
   "outputs": [],
   "source": [
    "train_generator = generator(train_path, train_doc, batch_size)\n",
    "val_generator = generator(val_path, val_doc, batch_size)"
   ]
  },
  {
   "cell_type": "code",
   "execution_count": 9,
   "metadata": {
    "collapsed": true
   },
   "outputs": [],
   "source": [
    "model_name = 'model_init' + '_' + str(curr_dt_time).replace(' ','').replace(':','_') + '/'\n",
    "    \n",
    "if not os.path.exists(model_name):\n",
    "    os.mkdir(model_name)\n",
    "        \n",
    "filepath = model_name + 'model-{epoch:05d}-{loss:.5f}-{categorical_accuracy:.5f}-{val_loss:.5f}-{val_categorical_accuracy:.5f}.h5'\n",
    "\n",
    "checkpoint = ModelCheckpoint(filepath, monitor='val_loss', verbose=1, save_best_only=False, save_weights_only=True, mode='auto', period=1)\n",
    "\n",
    "LR = ReduceLROnPlateau(monitor='val_loss', factor=0.2,\n",
    "                              patience=5, min_lr=0.001)# write the REducelronplateau code here\n",
    "callbacks_list = [checkpoint, LR]"
   ]
  },
  {
   "cell_type": "markdown",
   "metadata": {},
   "source": [
    "The `steps_per_epoch` and `validation_steps` are used by `fit_generator` to decide the number of next() calls it need to make."
   ]
  },
  {
   "cell_type": "code",
   "execution_count": 10,
   "metadata": {
    "collapsed": true
   },
   "outputs": [],
   "source": [
    "if (num_train_sequences%batch_size) == 0:\n",
    "    steps_per_epoch = int(num_train_sequences/batch_size)\n",
    "else:\n",
    "    steps_per_epoch = (num_train_sequences//batch_size) + 1\n",
    "\n",
    "if (num_val_sequences%batch_size) == 0:\n",
    "    validation_steps = int(num_val_sequences/batch_size)\n",
    "else:\n",
    "    validation_steps = (num_val_sequences//batch_size) + 1"
   ]
  },
  {
   "cell_type": "markdown",
   "metadata": {},
   "source": [
    "Let us now fit the model. This will start training the model and with the help of the checkpoints, you'll be able to save the model at the end of each epoch."
   ]
  },
  {
   "cell_type": "code",
   "execution_count": 11,
   "metadata": {},
   "outputs": [
    {
     "name": "stdout",
     "output_type": "stream",
     "text": [
      "Epoch 1/40\n",
      "Source path =  /mnt/DATA/Project_data/val ; batch size = 5\n",
      "Source path =  /mnt/DATA/Project_data/train ; batch size = 5\n",
      "(100,)\n",
      "(663,)\n",
      "121/133 [==========================>...] - ETA: 6s - loss: 1.4323 - categorical_accuracy: 0.3405(663,)\n",
      "132/133 [============================>.] - ETA: 0s - loss: 1.4333 - categorical_accuracy: 0.3455(100,)\n",
      "133/133 [==============================] - 81s 609ms/step - loss: 1.4290 - categorical_accuracy: 0.3489 - val_loss: 1.4782 - val_categorical_accuracy: 0.3700\n",
      "\n",
      "Epoch 00001: saving model to model_init_2018-10-1917_12_59.757788/model-00001-1.42904-0.34887-1.47821-0.37000.h5\n",
      "Epoch 2/40\n",
      "121/133 [==========================>...] - ETA: 6s - loss: 1.1893 - categorical_accuracy: 0.5273(663,)\n",
      "132/133 [============================>.] - ETA: 0s - loss: 1.1736 - categorical_accuracy: 0.5273(100,)\n",
      "133/133 [==============================] - 76s 575ms/step - loss: 1.1687 - categorical_accuracy: 0.5308 - val_loss: 1.0781 - val_categorical_accuracy: 0.5200\n",
      "\n",
      "Epoch 00002: saving model to model_init_2018-10-1917_12_59.757788/model-00002-1.16865-0.53083-1.07813-0.52000.h5\n",
      "Epoch 3/40\n",
      "122/133 [==========================>...] - ETA: 5s - loss: 1.0972 - categorical_accuracy: 0.5361(663,)\n",
      "132/133 [============================>.] - ETA: 0s - loss: 1.1001 - categorical_accuracy: 0.5394(100,)\n",
      "133/133 [==============================] - 77s 576ms/step - loss: 1.0990 - categorical_accuracy: 0.5398 - val_loss: 1.1983 - val_categorical_accuracy: 0.4700\n",
      "\n",
      "Epoch 00003: saving model to model_init_2018-10-1917_12_59.757788/model-00003-1.09897-0.53985-1.19825-0.47000.h5\n",
      "Epoch 4/40\n",
      "124/133 [==========================>...] - ETA: 4s - loss: 1.1523 - categorical_accuracy: 0.5000(663,)\n",
      "132/133 [============================>.] - ETA: 0s - loss: 1.1586 - categorical_accuracy: 0.4939(100,)\n",
      "133/133 [==============================] - 77s 576ms/step - loss: 1.1594 - categorical_accuracy: 0.4917 - val_loss: 1.3272 - val_categorical_accuracy: 0.4000\n",
      "\n",
      "Epoch 00004: saving model to model_init_2018-10-1917_12_59.757788/model-00004-1.15937-0.49173-1.32722-0.40000.h5\n",
      "Epoch 5/40\n",
      "119/133 [=========================>....] - ETA: 7s - loss: 1.1068 - categorical_accuracy: 0.5109(663,)\n",
      "132/133 [============================>.] - ETA: 0s - loss: 1.1400 - categorical_accuracy: 0.5015(100,)\n",
      "133/133 [==============================] - 77s 579ms/step - loss: 1.1406 - categorical_accuracy: 0.5008 - val_loss: 1.6642 - val_categorical_accuracy: 0.2400\n",
      "\n",
      "Epoch 00005: saving model to model_init_2018-10-1917_12_59.757788/model-00005-1.14056-0.50075-1.66415-0.24000.h5\n",
      "Epoch 6/40\n",
      "116/133 [=========================>....] - ETA: 8s - loss: 1.1715 - categorical_accuracy: 0.5034(663,)\n",
      "132/133 [============================>.] - ETA: 0s - loss: 1.1556 - categorical_accuracy: 0.5076(100,)\n",
      "133/133 [==============================] - 77s 576ms/step - loss: 1.1552 - categorical_accuracy: 0.5068 - val_loss: 1.4865 - val_categorical_accuracy: 0.3600\n",
      "\n",
      "Epoch 00006: saving model to model_init_2018-10-1917_12_59.757788/model-00006-1.15517-0.50677-1.48650-0.36000.h5\n",
      "Epoch 7/40\n",
      "115/133 [========================>.....] - ETA: 9s - loss: 1.0697 - categorical_accuracy: 0.5757(663,)\n",
      "132/133 [============================>.] - ETA: 0s - loss: 1.1048 - categorical_accuracy: 0.5561(100,)\n",
      "133/133 [==============================] - 77s 578ms/step - loss: 1.1071 - categorical_accuracy: 0.5534 - val_loss: 1.4599 - val_categorical_accuracy: 0.3400\n",
      "\n",
      "Epoch 00007: saving model to model_init_2018-10-1917_12_59.757788/model-00007-1.10714-0.55338-1.45993-0.34000.h5\n",
      "Epoch 8/40\n",
      "114/133 [========================>.....] - ETA: 9s - loss: 1.0241 - categorical_accuracy: 0.6035 (663,)\n",
      "132/133 [============================>.] - ETA: 0s - loss: 0.9815 - categorical_accuracy: 0.6258(100,)\n",
      "133/133 [==============================] - 77s 575ms/step - loss: 0.9801 - categorical_accuracy: 0.6271 - val_loss: 0.9147 - val_categorical_accuracy: 0.6500\n",
      "\n",
      "Epoch 00008: saving model to model_init_2018-10-1917_12_59.757788/model-00008-0.98009-0.62707-0.91471-0.65000.h5\n",
      "Epoch 9/40\n",
      "116/133 [=========================>....] - ETA: 8s - loss: 0.7449 - categorical_accuracy: 0.7362(663,)\n",
      "132/133 [============================>.] - ETA: 0s - loss: 0.7375 - categorical_accuracy: 0.7333(100,)\n",
      "133/133 [==============================] - 77s 577ms/step - loss: 0.7340 - categorical_accuracy: 0.7353 - val_loss: 0.9178 - val_categorical_accuracy: 0.6700\n",
      "\n",
      "Epoch 00009: saving model to model_init_2018-10-1917_12_59.757788/model-00009-0.73400-0.73534-0.91782-0.67000.h5\n",
      "Epoch 10/40\n",
      "113/133 [========================>.....] - ETA: 10s - loss: 0.6768 - categorical_accuracy: 0.7575(663,)\n",
      "132/133 [============================>.] - ETA: 0s - loss: 0.6464 - categorical_accuracy: 0.7712(100,)\n",
      "133/133 [==============================] - 77s 578ms/step - loss: 0.6466 - categorical_accuracy: 0.7714 - val_loss: 0.9005 - val_categorical_accuracy: 0.6800\n",
      "\n",
      "Epoch 00010: saving model to model_init_2018-10-1917_12_59.757788/model-00010-0.64656-0.77143-0.90051-0.68000.h5\n",
      "Epoch 11/40\n",
      "112/133 [========================>.....] - ETA: 10s - loss: 0.5310 - categorical_accuracy: 0.8286(663,)\n",
      "132/133 [============================>.] - ETA: 0s - loss: 0.5140 - categorical_accuracy: 0.8348(100,)\n",
      "133/133 [==============================] - 77s 577ms/step - loss: 0.5114 - categorical_accuracy: 0.8361 - val_loss: 0.8103 - val_categorical_accuracy: 0.7000\n",
      "\n",
      "Epoch 00011: saving model to model_init_2018-10-1917_12_59.757788/model-00011-0.51139-0.83609-0.81032-0.70000.h5\n",
      "Epoch 12/40\n",
      "110/133 [=======================>......] - ETA: 11s - loss: 0.4773 - categorical_accuracy: 0.8491(663,)\n",
      "132/133 [============================>.] - ETA: 0s - loss: 0.4642 - categorical_accuracy: 0.8530(100,)\n",
      "133/133 [==============================] - 77s 580ms/step - loss: 0.4631 - categorical_accuracy: 0.8526 - val_loss: 0.9918 - val_categorical_accuracy: 0.7100\n",
      "\n",
      "Epoch 00012: saving model to model_init_2018-10-1917_12_59.757788/model-00012-0.46306-0.85263-0.99179-0.71000.h5\n",
      "Epoch 13/40\n",
      "109/133 [=======================>......] - ETA: 12s - loss: 0.3962 - categorical_accuracy: 0.8624(663,)\n",
      "132/133 [============================>.] - ETA: 0s - loss: 0.4153 - categorical_accuracy: 0.8576(100,)\n",
      "133/133 [==============================] - 77s 580ms/step - loss: 0.4199 - categorical_accuracy: 0.8541 - val_loss: 1.4337 - val_categorical_accuracy: 0.6300\n",
      "\n",
      "Epoch 00013: saving model to model_init_2018-10-1917_12_59.757788/model-00013-0.41988-0.85414-1.43372-0.63000.h5\n",
      "Epoch 14/40\n",
      "109/133 [=======================>......] - ETA: 12s - loss: 0.4068 - categorical_accuracy: 0.8606(663,)\n",
      "132/133 [============================>.] - ETA: 0s - loss: 0.3824 - categorical_accuracy: 0.8727(100,)\n",
      "133/133 [==============================] - 77s 577ms/step - loss: 0.3801 - categorical_accuracy: 0.8737 - val_loss: 0.9211 - val_categorical_accuracy: 0.7500\n",
      "\n",
      "Epoch 00014: saving model to model_init_2018-10-1917_12_59.757788/model-00014-0.38012-0.87368-0.92114-0.75000.h5\n",
      "Epoch 15/40\n",
      "107/133 [=======================>......] - ETA: 13s - loss: 0.2818 - categorical_accuracy: 0.9121(663,)\n",
      "132/133 [============================>.] - ETA: 0s - loss: 0.2902 - categorical_accuracy: 0.9136(100,)\n",
      "133/133 [==============================] - 77s 577ms/step - loss: 0.2931 - categorical_accuracy: 0.9128 - val_loss: 0.9528 - val_categorical_accuracy: 0.7600\n",
      "\n",
      "Epoch 00015: saving model to model_init_2018-10-1917_12_59.757788/model-00015-0.29313-0.91278-0.95277-0.76000.h5\n",
      "Epoch 16/40\n",
      "107/133 [=======================>......] - ETA: 13s - loss: 0.2381 - categorical_accuracy: 0.9308(663,)\n",
      "132/133 [============================>.] - ETA: 0s - loss: 0.2637 - categorical_accuracy: 0.9182(100,)\n",
      "133/133 [==============================] - 77s 577ms/step - loss: 0.2626 - categorical_accuracy: 0.9188 - val_loss: 0.9709 - val_categorical_accuracy: 0.6600\n",
      "\n",
      "Epoch 00016: saving model to model_init_2018-10-1917_12_59.757788/model-00016-0.26262-0.91880-0.97095-0.66000.h5\n",
      "Epoch 17/40\n",
      "105/133 [======================>.......] - ETA: 14s - loss: 0.1912 - categorical_accuracy: 0.9390(663,)\n",
      "132/133 [============================>.] - ETA: 0s - loss: 0.1852 - categorical_accuracy: 0.9439(100,)\n",
      "133/133 [==============================] - 77s 578ms/step - loss: 0.1841 - categorical_accuracy: 0.9444 - val_loss: 0.9193 - val_categorical_accuracy: 0.7500\n"
     ]
    },
    {
     "name": "stdout",
     "output_type": "stream",
     "text": [
      "\n",
      "Epoch 00017: saving model to model_init_2018-10-1917_12_59.757788/model-00017-0.18406-0.94436-0.91930-0.75000.h5\n",
      "Epoch 18/40\n",
      "104/133 [======================>.......] - ETA: 14s - loss: 0.1518 - categorical_accuracy: 0.9615(663,)\n",
      "132/133 [============================>.] - ETA: 0s - loss: 0.1381 - categorical_accuracy: 0.9667(100,)\n",
      "133/133 [==============================] - 77s 578ms/step - loss: 0.1372 - categorical_accuracy: 0.9669 - val_loss: 0.9428 - val_categorical_accuracy: 0.7200\n",
      "\n",
      "Epoch 00018: saving model to model_init_2018-10-1917_12_59.757788/model-00018-0.13722-0.96692-0.94276-0.72000.h5\n",
      "Epoch 19/40\n",
      "103/133 [======================>.......] - ETA: 15s - loss: 0.1105 - categorical_accuracy: 0.9786(663,)\n",
      "132/133 [============================>.] - ETA: 0s - loss: 0.1261 - categorical_accuracy: 0.9742(100,)\n",
      "133/133 [==============================] - 77s 579ms/step - loss: 0.1255 - categorical_accuracy: 0.9744 - val_loss: 1.0249 - val_categorical_accuracy: 0.7100\n",
      "\n",
      "Epoch 00019: saving model to model_init_2018-10-1917_12_59.757788/model-00019-0.12546-0.97444-1.02488-0.71000.h5\n",
      "Epoch 20/40\n",
      "102/133 [======================>.......] - ETA: 15s - loss: 0.0712 - categorical_accuracy: 0.9882(663,)\n",
      "132/133 [============================>.] - ETA: 0s - loss: 0.0700 - categorical_accuracy: 0.9879(100,)\n",
      "133/133 [==============================] - 77s 577ms/step - loss: 0.0699 - categorical_accuracy: 0.9880 - val_loss: 1.0472 - val_categorical_accuracy: 0.7100\n",
      "\n",
      "Epoch 00020: saving model to model_init_2018-10-1917_12_59.757788/model-00020-0.06990-0.98797-1.04719-0.71000.h5\n",
      "Epoch 21/40\n",
      "101/133 [=====================>........] - ETA: 16s - loss: 0.0738 - categorical_accuracy: 0.9881(663,)\n",
      "132/133 [============================>.] - ETA: 0s - loss: 0.0692 - categorical_accuracy: 0.9894(100,)\n",
      "133/133 [==============================] - 77s 580ms/step - loss: 0.0689 - categorical_accuracy: 0.9895 - val_loss: 1.0527 - val_categorical_accuracy: 0.7200\n",
      "\n",
      "Epoch 00021: saving model to model_init_2018-10-1917_12_59.757788/model-00021-0.06889-0.98947-1.05266-0.72000.h5\n",
      "Epoch 22/40\n",
      "102/133 [======================>.......] - ETA: 15s - loss: 0.0561 - categorical_accuracy: 0.9922(663,)\n",
      "132/133 [============================>.] - ETA: 0s - loss: 0.0633 - categorical_accuracy: 0.9894(100,)\n",
      "133/133 [==============================] - 77s 577ms/step - loss: 0.0630 - categorical_accuracy: 0.9895 - val_loss: 1.0991 - val_categorical_accuracy: 0.7200\n",
      "\n",
      "Epoch 00022: saving model to model_init_2018-10-1917_12_59.757788/model-00022-0.06301-0.98947-1.09912-0.72000.h5\n",
      "Epoch 23/40\n",
      "103/133 [======================>.......] - ETA: 15s - loss: 0.0697 - categorical_accuracy: 0.9883(663,)\n",
      "132/133 [============================>.] - ETA: 0s - loss: 0.0652 - categorical_accuracy: 0.9894(100,)\n",
      "133/133 [==============================] - 77s 578ms/step - loss: 0.0649 - categorical_accuracy: 0.9895 - val_loss: 1.0808 - val_categorical_accuracy: 0.7300\n",
      "\n",
      "Epoch 00023: saving model to model_init_2018-10-1917_12_59.757788/model-00023-0.06485-0.98947-1.08078-0.73000.h5\n",
      "Epoch 24/40\n",
      "103/133 [======================>.......] - ETA: 15s - loss: 0.0555 - categorical_accuracy: 0.9903(663,)\n",
      "132/133 [============================>.] - ETA: 0s - loss: 0.0618 - categorical_accuracy: 0.9894(100,)\n",
      "133/133 [==============================] - 77s 578ms/step - loss: 0.0615 - categorical_accuracy: 0.9895 - val_loss: 1.1014 - val_categorical_accuracy: 0.7300\n",
      "\n",
      "Epoch 00024: saving model to model_init_2018-10-1917_12_59.757788/model-00024-0.06146-0.98947-1.10143-0.73000.h5\n",
      "Epoch 25/40\n",
      "102/133 [======================>.......] - ETA: 15s - loss: 0.0547 - categorical_accuracy: 0.9902(663,)\n",
      "132/133 [============================>.] - ETA: 0s - loss: 0.0581 - categorical_accuracy: 0.9894(100,)\n",
      "133/133 [==============================] - 77s 576ms/step - loss: 0.0579 - categorical_accuracy: 0.9895 - val_loss: 1.1054 - val_categorical_accuracy: 0.7300\n",
      "\n",
      "Epoch 00025: saving model to model_init_2018-10-1917_12_59.757788/model-00025-0.05787-0.98947-1.10538-0.73000.h5\n",
      "Epoch 26/40\n",
      "102/133 [======================>.......] - ETA: 15s - loss: 0.0483 - categorical_accuracy: 0.9922(663,)\n",
      "132/133 [============================>.] - ETA: 0s - loss: 0.0459 - categorical_accuracy: 0.9924(100,)\n",
      "133/133 [==============================] - 77s 577ms/step - loss: 0.0457 - categorical_accuracy: 0.9925 - val_loss: 1.1663 - val_categorical_accuracy: 0.7100\n",
      "\n",
      "Epoch 00026: saving model to model_init_2018-10-1917_12_59.757788/model-00026-0.04574-0.99248-1.16635-0.71000.h5\n",
      "Epoch 27/40\n",
      " 95/133 [====================>.........] - ETA: 19s - loss: 0.0577 - categorical_accuracy: 0.9895(663,)\n",
      "132/133 [============================>.] - ETA: 0s - loss: 0.0555 - categorical_accuracy: 0.9894(100,)\n",
      "133/133 [==============================] - 77s 578ms/step - loss: 0.0552 - categorical_accuracy: 0.9895 - val_loss: 1.1325 - val_categorical_accuracy: 0.7100\n",
      "\n",
      "Epoch 00027: saving model to model_init_2018-10-1917_12_59.757788/model-00027-0.05523-0.98947-1.13250-0.71000.h5\n",
      "Epoch 28/40\n",
      " 95/133 [====================>.........] - ETA: 19s - loss: 0.0502 - categorical_accuracy: 0.9916(663,)\n",
      "132/133 [============================>.] - ETA: 0s - loss: 0.0469 - categorical_accuracy: 0.9924(100,)\n",
      "133/133 [==============================] - 77s 581ms/step - loss: 0.0466 - categorical_accuracy: 0.9925 - val_loss: 1.1594 - val_categorical_accuracy: 0.7000\n",
      "\n",
      "Epoch 00028: saving model to model_init_2018-10-1917_12_59.757788/model-00028-0.04665-0.99248-1.15941-0.70000.h5\n",
      "Epoch 29/40\n",
      " 97/133 [====================>.........] - ETA: 18s - loss: 0.0522 - categorical_accuracy: 0.9897(663,)\n",
      "132/133 [============================>.] - ETA: 0s - loss: 0.0548 - categorical_accuracy: 0.9894(100,)\n",
      "133/133 [==============================] - 77s 577ms/step - loss: 0.0545 - categorical_accuracy: 0.9895 - val_loss: 1.2019 - val_categorical_accuracy: 0.7000\n",
      "\n",
      "Epoch 00029: saving model to model_init_2018-10-1917_12_59.757788/model-00029-0.05452-0.98947-1.20194-0.70000.h5\n",
      "Epoch 30/40\n",
      " 93/133 [===================>..........] - ETA: 20s - loss: 0.0297 - categorical_accuracy: 0.9957(663,)\n",
      "132/133 [============================>.] - ETA: 0s - loss: 0.0304 - categorical_accuracy: 0.9955(100,)\n",
      "133/133 [==============================] - 77s 577ms/step - loss: 0.0303 - categorical_accuracy: 0.9955 - val_loss: 1.1280 - val_categorical_accuracy: 0.7400\n",
      "\n",
      "Epoch 00030: saving model to model_init_2018-10-1917_12_59.757788/model-00030-0.03028-0.99549-1.12800-0.74000.h5\n",
      "Epoch 31/40\n",
      " 93/133 [===================>..........] - ETA: 20s - loss: 0.0547 - categorical_accuracy: 0.9892(663,)\n",
      "132/133 [============================>.] - ETA: 0s - loss: 0.0472 - categorical_accuracy: 0.9909(100,)\n",
      "133/133 [==============================] - 77s 578ms/step - loss: 0.0469 - categorical_accuracy: 0.9910 - val_loss: 1.1612 - val_categorical_accuracy: 0.7200\n",
      "\n",
      "Epoch 00031: saving model to model_init_2018-10-1917_12_59.757788/model-00031-0.04695-0.99098-1.16119-0.72000.h5\n",
      "Epoch 32/40\n",
      " 91/133 [===================>..........] - ETA: 21s - loss: 0.0391 - categorical_accuracy: 0.9934(663,)\n",
      "132/133 [============================>.] - ETA: 0s - loss: 0.0399 - categorical_accuracy: 0.9924(100,)\n",
      "133/133 [==============================] - 77s 580ms/step - loss: 0.0397 - categorical_accuracy: 0.9925 - val_loss: 1.1738 - val_categorical_accuracy: 0.7100\n",
      "\n",
      "Epoch 00032: saving model to model_init_2018-10-1917_12_59.757788/model-00032-0.03973-0.99248-1.17383-0.71000.h5\n",
      "Epoch 33/40\n",
      " 95/133 [====================>.........] - ETA: 19s - loss: 0.0430 - categorical_accuracy: 0.9916(663,)\n",
      "132/133 [============================>.] - ETA: 0s - loss: 0.0349 - categorical_accuracy: 0.9939(100,)\n",
      "133/133 [==============================] - 77s 578ms/step - loss: 0.0348 - categorical_accuracy: 0.9940 - val_loss: 1.2316 - val_categorical_accuracy: 0.7000\n",
      "\n",
      "Epoch 00033: saving model to model_init_2018-10-1917_12_59.757788/model-00033-0.03477-0.99398-1.23159-0.70000.h5\n",
      "Epoch 34/40\n",
      " 91/133 [===================>..........] - ETA: 21s - loss: 0.0495 - categorical_accuracy: 0.9890(663,)\n",
      "132/133 [============================>.] - ETA: 0s - loss: 0.0425 - categorical_accuracy: 0.9909(100,)\n",
      "133/133 [==============================] - 77s 578ms/step - loss: 0.0424 - categorical_accuracy: 0.9910 - val_loss: 1.1767 - val_categorical_accuracy: 0.7200\n"
     ]
    },
    {
     "name": "stdout",
     "output_type": "stream",
     "text": [
      "\n",
      "Epoch 00034: saving model to model_init_2018-10-1917_12_59.757788/model-00034-0.04236-0.99098-1.17675-0.72000.h5\n",
      "Epoch 35/40\n",
      " 87/133 [==================>...........] - ETA: 23s - loss: 0.0449 - categorical_accuracy: 0.9908(663,)\n",
      "132/133 [============================>.] - ETA: 0s - loss: 0.0378 - categorical_accuracy: 0.9924(100,)\n",
      "133/133 [==============================] - 77s 579ms/step - loss: 0.0376 - categorical_accuracy: 0.9925 - val_loss: 1.2402 - val_categorical_accuracy: 0.7100\n",
      "\n",
      "Epoch 00035: saving model to model_init_2018-10-1917_12_59.757788/model-00035-0.03758-0.99248-1.24020-0.71000.h5\n",
      "Epoch 36/40\n",
      " 88/133 [==================>...........] - ETA: 22s - loss: 0.0438 - categorical_accuracy: 0.9909(663,)\n",
      "132/133 [============================>.] - ETA: 0s - loss: 0.0508 - categorical_accuracy: 0.9879(100,)\n",
      "133/133 [==============================] - 77s 577ms/step - loss: 0.0505 - categorical_accuracy: 0.9880 - val_loss: 1.2926 - val_categorical_accuracy: 0.6900\n",
      "\n",
      "Epoch 00036: saving model to model_init_2018-10-1917_12_59.757788/model-00036-0.05050-0.98797-1.29255-0.69000.h5\n",
      "Epoch 37/40\n",
      " 87/133 [==================>...........] - ETA: 23s - loss: 0.0236 - categorical_accuracy: 0.9977(663,)\n",
      "132/133 [============================>.] - ETA: 0s - loss: 0.0194 - categorical_accuracy: 0.9985(100,)\n",
      "133/133 [==============================] - 77s 578ms/step - loss: 0.0193 - categorical_accuracy: 0.9985 - val_loss: 1.2348 - val_categorical_accuracy: 0.7100\n",
      "\n",
      "Epoch 00037: saving model to model_init_2018-10-1917_12_59.757788/model-00037-0.01935-0.99850-1.23484-0.71000.h5\n",
      "Epoch 38/40\n",
      " 85/133 [==================>...........] - ETA: 24s - loss: 0.0440 - categorical_accuracy: 0.9906(663,)\n",
      "132/133 [============================>.] - ETA: 0s - loss: 0.0402 - categorical_accuracy: 0.9909(100,)\n",
      "133/133 [==============================] - 77s 580ms/step - loss: 0.0400 - categorical_accuracy: 0.9910 - val_loss: 1.2714 - val_categorical_accuracy: 0.7000\n",
      "\n",
      "Epoch 00038: saving model to model_init_2018-10-1917_12_59.757788/model-00038-0.03999-0.99098-1.27139-0.70000.h5\n",
      "Epoch 39/40\n",
      " 87/133 [==================>...........] - ETA: 23s - loss: 0.0428 - categorical_accuracy: 0.9908(663,)\n",
      "132/133 [============================>.] - ETA: 0s - loss: 0.0358 - categorical_accuracy: 0.9924(100,)\n",
      "133/133 [==============================] - 77s 577ms/step - loss: 0.0356 - categorical_accuracy: 0.9925 - val_loss: 1.2685 - val_categorical_accuracy: 0.7000\n",
      "\n",
      "Epoch 00039: saving model to model_init_2018-10-1917_12_59.757788/model-00039-0.03562-0.99248-1.26852-0.70000.h5\n",
      "Epoch 40/40\n",
      " 85/133 [==================>...........] - ETA: 24s - loss: 0.0370 - categorical_accuracy: 0.9929(663,)\n",
      "132/133 [============================>.] - ETA: 0s - loss: 0.0380 - categorical_accuracy: 0.9924(100,)\n",
      "133/133 [==============================] - 77s 577ms/step - loss: 0.0378 - categorical_accuracy: 0.9925 - val_loss: 1.2492 - val_categorical_accuracy: 0.7000\n",
      "\n",
      "Epoch 00040: saving model to model_init_2018-10-1917_12_59.757788/model-00040-0.03781-0.99248-1.24921-0.70000.h5\n"
     ]
    },
    {
     "data": {
      "text/plain": [
       "<keras.callbacks.History at 0x7f725b920940>"
      ]
     },
     "execution_count": 11,
     "metadata": {},
     "output_type": "execute_result"
    }
   ],
   "source": [
    "model.fit_generator(train_generator, steps_per_epoch=steps_per_epoch, epochs=num_epochs, verbose=1, \n",
    "                    callbacks=callbacks_list, validation_data=val_generator, \n",
    "                    validation_steps=validation_steps, class_weight=None, workers=1, initial_epoch=0)"
   ]
  },
  {
   "cell_type": "code",
   "execution_count": null,
   "metadata": {
    "collapsed": true
   },
   "outputs": [],
   "source": []
  }
 ],
 "metadata": {
  "kernelspec": {
   "display_name": "Python 3",
   "language": "python",
   "name": "python3"
  },
  "language_info": {
   "codemirror_mode": {
    "name": "ipython",
    "version": 3
   },
   "file_extension": ".py",
   "mimetype": "text/x-python",
   "name": "python",
   "nbconvert_exporter": "python",
   "pygments_lexer": "ipython3",
   "version": "3.6.4"
  }
 },
 "nbformat": 4,
 "nbformat_minor": 2
}

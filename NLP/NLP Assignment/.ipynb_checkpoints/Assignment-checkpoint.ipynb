{
 "cells": [
  {
   "cell_type": "markdown",
   "metadata": {},
   "source": [
    "## POS tagging using modified Viterbi"
   ]
  },
  {
   "cell_type": "markdown",
   "metadata": {},
   "source": [
    "### Data Preparation"
   ]
  },
  {
   "cell_type": "code",
   "execution_count": 3,
   "metadata": {
    "collapsed": true
   },
   "outputs": [],
   "source": [
    "#Importing libraries\n",
    "import nltk\n",
    "import random\n",
    "import numpy as np\n",
    "import pandas as pd\n",
    "import requests\n",
    "import matplotlib.pyplot as plt\n",
    "import seaborn as sns\n",
    "import pprint, time\n",
    "from sklearn.model_selection import train_test_split\n",
    "from nltk.tokenize import word_tokenize"
   ]
  },
  {
   "cell_type": "code",
   "execution_count": 4,
   "metadata": {
    "collapsed": true
   },
   "outputs": [],
   "source": [
    "# reading the Treebank tagged sentences\n",
    "nltk_data = list(nltk.corpus.treebank.tagged_sents(tagset='universal'))"
   ]
  },
  {
   "cell_type": "code",
   "execution_count": 4,
   "metadata": {},
   "outputs": [
    {
     "name": "stdout",
     "output_type": "stream",
     "text": [
      "[[('Pierre', 'NOUN'), ('Vinken', 'NOUN'), (',', '.'), ('61', 'NUM'), ('years', 'NOUN'), ('old', 'ADJ'), (',', '.'), ('will', 'VERB'), ('join', 'VERB'), ('the', 'DET'), ('board', 'NOUN'), ('as', 'ADP'), ('a', 'DET'), ('nonexecutive', 'ADJ'), ('director', 'NOUN'), ('Nov.', 'NOUN'), ('29', 'NUM'), ('.', '.')], [('Mr.', 'NOUN'), ('Vinken', 'NOUN'), ('is', 'VERB'), ('chairman', 'NOUN'), ('of', 'ADP'), ('Elsevier', 'NOUN'), ('N.V.', 'NOUN'), (',', '.'), ('the', 'DET'), ('Dutch', 'NOUN'), ('publishing', 'VERB'), ('group', 'NOUN'), ('.', '.')], [('Rudolph', 'NOUN'), ('Agnew', 'NOUN'), (',', '.'), ('55', 'NUM'), ('years', 'NOUN'), ('old', 'ADJ'), ('and', 'CONJ'), ('former', 'ADJ'), ('chairman', 'NOUN'), ('of', 'ADP'), ('Consolidated', 'NOUN'), ('Gold', 'NOUN'), ('Fields', 'NOUN'), ('PLC', 'NOUN'), (',', '.'), ('was', 'VERB'), ('named', 'VERB'), ('*-1', 'X'), ('a', 'DET'), ('nonexecutive', 'ADJ'), ('director', 'NOUN'), ('of', 'ADP'), ('this', 'DET'), ('British', 'ADJ'), ('industrial', 'ADJ'), ('conglomerate', 'NOUN'), ('.', '.')], [('A', 'DET'), ('form', 'NOUN'), ('of', 'ADP'), ('asbestos', 'NOUN'), ('once', 'ADV'), ('used', 'VERB'), ('*', 'X'), ('*', 'X'), ('to', 'PRT'), ('make', 'VERB'), ('Kent', 'NOUN'), ('cigarette', 'NOUN'), ('filters', 'NOUN'), ('has', 'VERB'), ('caused', 'VERB'), ('a', 'DET'), ('high', 'ADJ'), ('percentage', 'NOUN'), ('of', 'ADP'), ('cancer', 'NOUN'), ('deaths', 'NOUN'), ('among', 'ADP'), ('a', 'DET'), ('group', 'NOUN'), ('of', 'ADP'), ('workers', 'NOUN'), ('exposed', 'VERB'), ('*', 'X'), ('to', 'PRT'), ('it', 'PRON'), ('more', 'ADV'), ('than', 'ADP'), ('30', 'NUM'), ('years', 'NOUN'), ('ago', 'ADP'), (',', '.'), ('researchers', 'NOUN'), ('reported', 'VERB'), ('0', 'X'), ('*T*-1', 'X'), ('.', '.')], [('The', 'DET'), ('asbestos', 'NOUN'), ('fiber', 'NOUN'), (',', '.'), ('crocidolite', 'NOUN'), (',', '.'), ('is', 'VERB'), ('unusually', 'ADV'), ('resilient', 'ADJ'), ('once', 'ADP'), ('it', 'PRON'), ('enters', 'VERB'), ('the', 'DET'), ('lungs', 'NOUN'), (',', '.'), ('with', 'ADP'), ('even', 'ADV'), ('brief', 'ADJ'), ('exposures', 'NOUN'), ('to', 'PRT'), ('it', 'PRON'), ('causing', 'VERB'), ('symptoms', 'NOUN'), ('that', 'DET'), ('*T*-1', 'X'), ('show', 'VERB'), ('up', 'PRT'), ('decades', 'NOUN'), ('later', 'ADJ'), (',', '.'), ('researchers', 'NOUN'), ('said', 'VERB'), ('0', 'X'), ('*T*-2', 'X'), ('.', '.')], [('Lorillard', 'NOUN'), ('Inc.', 'NOUN'), (',', '.'), ('the', 'DET'), ('unit', 'NOUN'), ('of', 'ADP'), ('New', 'ADJ'), ('York-based', 'ADJ'), ('Loews', 'NOUN'), ('Corp.', 'NOUN'), ('that', 'DET'), ('*T*-2', 'X'), ('makes', 'VERB'), ('Kent', 'NOUN'), ('cigarettes', 'NOUN'), (',', '.'), ('stopped', 'VERB'), ('using', 'VERB'), ('crocidolite', 'NOUN'), ('in', 'ADP'), ('its', 'PRON'), ('Micronite', 'NOUN'), ('cigarette', 'NOUN'), ('filters', 'NOUN'), ('in', 'ADP'), ('1956', 'NUM'), ('.', '.')], [('Although', 'ADP'), ('preliminary', 'ADJ'), ('findings', 'NOUN'), ('were', 'VERB'), ('reported', 'VERB'), ('*-2', 'X'), ('more', 'ADV'), ('than', 'ADP'), ('a', 'DET'), ('year', 'NOUN'), ('ago', 'ADP'), (',', '.'), ('the', 'DET'), ('latest', 'ADJ'), ('results', 'NOUN'), ('appear', 'VERB'), ('in', 'ADP'), ('today', 'NOUN'), (\"'s\", 'PRT'), ('New', 'NOUN'), ('England', 'NOUN'), ('Journal', 'NOUN'), ('of', 'ADP'), ('Medicine', 'NOUN'), (',', '.'), ('a', 'DET'), ('forum', 'NOUN'), ('likely', 'ADJ'), ('*', 'X'), ('to', 'PRT'), ('bring', 'VERB'), ('new', 'ADJ'), ('attention', 'NOUN'), ('to', 'PRT'), ('the', 'DET'), ('problem', 'NOUN'), ('.', '.')], [('A', 'DET'), ('Lorillard', 'NOUN'), ('spokewoman', 'NOUN'), ('said', 'VERB'), (',', '.'), ('``', '.'), ('This', 'DET'), ('is', 'VERB'), ('an', 'DET'), ('old', 'ADJ'), ('story', 'NOUN'), ('.', '.')], [('We', 'PRON'), (\"'re\", 'VERB'), ('talking', 'VERB'), ('about', 'ADP'), ('years', 'NOUN'), ('ago', 'ADP'), ('before', 'ADP'), ('anyone', 'NOUN'), ('heard', 'VERB'), ('of', 'ADP'), ('asbestos', 'NOUN'), ('having', 'VERB'), ('any', 'DET'), ('questionable', 'ADJ'), ('properties', 'NOUN'), ('.', '.')], [('There', 'DET'), ('is', 'VERB'), ('no', 'DET'), ('asbestos', 'NOUN'), ('in', 'ADP'), ('our', 'PRON'), ('products', 'NOUN'), ('now', 'ADV'), ('.', '.'), (\"''\", '.')], [('Neither', 'DET'), ('Lorillard', 'NOUN'), ('nor', 'CONJ'), ('the', 'DET'), ('researchers', 'NOUN'), ('who', 'PRON'), ('*T*-3', 'X'), ('studied', 'VERB'), ('the', 'DET'), ('workers', 'NOUN'), ('were', 'VERB'), ('aware', 'ADJ'), ('of', 'ADP'), ('any', 'DET'), ('research', 'NOUN'), ('on', 'ADP'), ('smokers', 'NOUN'), ('of', 'ADP'), ('the', 'DET'), ('Kent', 'NOUN'), ('cigarettes', 'NOUN'), ('.', '.')], [('``', '.'), ('We', 'PRON'), ('have', 'VERB'), ('no', 'DET'), ('useful', 'ADJ'), ('information', 'NOUN'), ('on', 'ADP'), ('whether', 'ADP'), ('users', 'NOUN'), ('are', 'VERB'), ('at', 'ADP'), ('risk', 'NOUN'), (',', '.'), (\"''\", '.'), ('said', 'VERB'), ('*T*-1', 'X'), ('James', 'NOUN'), ('A.', 'NOUN'), ('Talcott', 'NOUN'), ('of', 'ADP'), ('Boston', 'NOUN'), (\"'s\", 'PRT'), ('Dana-Farber', 'NOUN'), ('Cancer', 'NOUN'), ('Institute', 'NOUN'), ('.', '.')], [('Dr.', 'NOUN'), ('Talcott', 'NOUN'), ('led', 'VERB'), ('a', 'DET'), ('team', 'NOUN'), ('of', 'ADP'), ('researchers', 'NOUN'), ('from', 'ADP'), ('the', 'DET'), ('National', 'NOUN'), ('Cancer', 'NOUN'), ('Institute', 'NOUN'), ('and', 'CONJ'), ('the', 'DET'), ('medical', 'ADJ'), ('schools', 'NOUN'), ('of', 'ADP'), ('Harvard', 'NOUN'), ('University', 'NOUN'), ('and', 'CONJ'), ('Boston', 'NOUN'), ('University', 'NOUN'), ('.', '.')], [('The', 'DET'), ('Lorillard', 'NOUN'), ('spokeswoman', 'NOUN'), ('said', 'VERB'), ('0', 'X'), ('asbestos', 'NOUN'), ('was', 'VERB'), ('used', 'VERB'), ('*-1', 'X'), ('in', 'ADP'), ('``', '.'), ('very', 'ADV'), ('modest', 'ADJ'), ('amounts', 'NOUN'), (\"''\", '.'), ('in', 'ADP'), ('*', 'X'), ('making', 'VERB'), ('paper', 'NOUN'), ('for', 'ADP'), ('the', 'DET'), ('filters', 'NOUN'), ('in', 'ADP'), ('the', 'DET'), ('early', 'ADJ'), ('1950s', 'NUM'), ('and', 'CONJ'), ('replaced', 'VERB'), ('*-1', 'X'), ('with', 'ADP'), ('a', 'DET'), ('different', 'ADJ'), ('type', 'NOUN'), ('of', 'ADP'), ('filter', 'NOUN'), ('in', 'ADP'), ('1956', 'NUM'), ('.', '.')], [('From', 'ADP'), ('1953', 'NUM'), ('to', 'PRT'), ('1955', 'NUM'), (',', '.'), ('9.8', 'NUM'), ('billion', 'NUM'), ('Kent', 'NOUN'), ('cigarettes', 'NOUN'), ('with', 'ADP'), ('the', 'DET'), ('filters', 'NOUN'), ('were', 'VERB'), ('sold', 'VERB'), ('*-3', 'X'), (',', '.'), ('the', 'DET'), ('company', 'NOUN'), ('said', 'VERB'), ('0', 'X'), ('*T*-1', 'X'), ('.', '.')], [('Among', 'ADP'), ('33', 'NUM'), ('men', 'NOUN'), ('who', 'PRON'), ('*T*-4', 'X'), ('worked', 'VERB'), ('closely', 'ADV'), ('with', 'ADP'), ('the', 'DET'), ('substance', 'NOUN'), (',', '.'), ('28', 'NUM'), ('*ICH*-1', 'X'), ('have', 'VERB'), ('died', 'VERB'), ('--', '.'), ('more', 'ADJ'), ('than', 'ADP'), ('three', 'NUM'), ('times', 'NOUN'), ('the', 'DET'), ('expected', 'VERB'), ('number', 'NOUN'), ('.', '.')], [('Four', 'NUM'), ('of', 'ADP'), ('the', 'DET'), ('five', 'NUM'), ('surviving', 'VERB'), ('workers', 'NOUN'), ('have', 'VERB'), ('asbestos-related', 'ADJ'), ('diseases', 'NOUN'), (',', '.'), ('including', 'VERB'), ('three', 'NUM'), ('with', 'ADP'), ('recently', 'ADV'), ('diagnosed', 'VERB'), ('cancer', 'NOUN'), ('.', '.')], [('The', 'DET'), ('total', 'NOUN'), ('of', 'ADP'), ('18', 'NUM'), ('deaths', 'NOUN'), ('from', 'ADP'), ('malignant', 'ADJ'), ('mesothelioma', 'NOUN'), (',', '.'), ('lung', 'NOUN'), ('cancer', 'NOUN'), ('and', 'CONJ'), ('asbestosis', 'NOUN'), ('was', 'VERB'), ('far', 'ADV'), ('higher', 'ADJ'), ('than', 'ADP'), ('*', 'X'), ('expected', 'VERB'), ('*?*', 'X'), (',', '.'), ('the', 'DET'), ('researchers', 'NOUN'), ('said', 'VERB'), ('0', 'X'), ('*T*-1', 'X'), ('.', '.')], [('``', '.'), ('The', 'DET'), ('morbidity', 'NOUN'), ('rate', 'NOUN'), ('is', 'VERB'), ('a', 'DET'), ('striking', 'ADJ'), ('finding', 'NOUN'), ('among', 'ADP'), ('those', 'DET'), ('of', 'ADP'), ('us', 'PRON'), ('who', 'PRON'), ('*T*-5', 'X'), ('study', 'VERB'), ('asbestos-related', 'ADJ'), ('diseases', 'NOUN'), (',', '.'), (\"''\", '.'), ('said', 'VERB'), ('*T*-1', 'X'), ('Dr.', 'NOUN'), ('Talcott', 'NOUN'), ('.', '.')], [('The', 'DET'), ('percentage', 'NOUN'), ('of', 'ADP'), ('lung', 'NOUN'), ('cancer', 'NOUN'), ('deaths', 'NOUN'), ('among', 'ADP'), ('the', 'DET'), ('workers', 'NOUN'), ('at', 'ADP'), ('the', 'DET'), ('West', 'NOUN'), ('Groton', 'NOUN'), (',', '.'), ('Mass.', 'NOUN'), (',', '.'), ('paper', 'NOUN'), ('factory', 'NOUN'), ('appears', 'VERB'), ('*-1', 'X'), ('to', 'PRT'), ('be', 'VERB'), ('the', 'DET'), ('highest', 'ADJ'), ('for', 'ADP'), ('any', 'DET'), ('asbestos', 'NOUN'), ('workers', 'NOUN'), ('studied', 'VERB'), ('*', 'X'), ('in', 'ADP'), ('Western', 'ADJ'), ('industrialized', 'VERB'), ('countries', 'NOUN'), (',', '.'), ('he', 'PRON'), ('said', 'VERB'), ('0', 'X'), ('*T*-2', 'X'), ('.', '.')], [('The', 'DET'), ('plant', 'NOUN'), (',', '.'), ('which', 'DET'), ('*T*-1', 'X'), ('is', 'VERB'), ('owned', 'VERB'), ('*-4', 'X'), ('by', 'ADP'), ('Hollingsworth', 'NOUN'), ('&', 'CONJ'), ('Vose', 'NOUN'), ('Co.', 'NOUN'), (',', '.'), ('was', 'VERB'), ('under', 'ADP'), ('contract', 'NOUN'), ('*ICH*-2', 'X'), ('with', 'ADP'), ('Lorillard', 'NOUN'), ('*', 'X'), ('to', 'PRT'), ('make', 'VERB'), ('the', 'DET'), ('cigarette', 'NOUN'), ('filters', 'NOUN'), ('.', '.')], [('The', 'DET'), ('finding', 'NOUN'), ('probably', 'ADV'), ('will', 'VERB'), ('support', 'VERB'), ('those', 'DET'), ('who', 'PRON'), ('*T*-6', 'X'), ('argue', 'VERB'), ('that', 'ADP'), ('the', 'DET'), ('U.S.', 'NOUN'), ('should', 'VERB'), ('regulate', 'VERB'), ('the', 'DET'), ('class', 'NOUN'), ('of', 'ADP'), ('asbestos', 'NOUN'), ('including', 'VERB'), ('crocidolite', 'NOUN'), ('more', 'ADV'), ('stringently', 'ADV'), ('than', 'ADP'), ('the', 'DET'), ('common', 'ADJ'), ('kind', 'NOUN'), ('of', 'ADP'), ('asbestos', 'NOUN'), (',', '.'), ('chrysotile', 'NOUN'), (',', '.'), ('found', 'VERB'), ('*', 'X'), ('in', 'ADP'), ('most', 'ADJ'), ('schools', 'NOUN'), ('and', 'CONJ'), ('other', 'ADJ'), ('buildings', 'NOUN'), (',', '.'), ('Dr.', 'NOUN'), ('Talcott', 'NOUN'), ('said', 'VERB'), ('0', 'X'), ('*T*-1', 'X'), ('.', '.')], [('The', 'DET'), ('U.S.', 'NOUN'), ('is', 'VERB'), ('one', 'NUM'), ('of', 'ADP'), ('the', 'DET'), ('few', 'ADJ'), ('industrialized', 'VERB'), ('nations', 'NOUN'), ('that', 'DET'), ('*T*-7', 'X'), ('does', 'VERB'), (\"n't\", 'ADV'), ('have', 'VERB'), ('a', 'DET'), ('higher', 'ADJ'), ('standard', 'NOUN'), ('of', 'ADP'), ('regulation', 'NOUN'), ('for', 'ADP'), ('the', 'DET'), ('smooth', 'ADJ'), (',', '.'), ('needle-like', 'ADJ'), ('fibers', 'NOUN'), ('such', 'ADJ'), ('as', 'ADP'), ('crocidolite', 'NOUN'), ('that', 'DET'), ('*T*-1', 'X'), ('are', 'VERB'), ('classified', 'VERB'), ('*-5', 'X'), ('as', 'ADP'), ('amphobiles', 'NOUN'), (',', '.'), ('according', 'VERB'), ('to', 'PRT'), ('Brooke', 'NOUN'), ('T.', 'NOUN'), ('Mossman', 'NOUN'), (',', '.'), ('a', 'DET'), ('professor', 'NOUN'), ('of', 'ADP'), ('pathlogy', 'NOUN'), ('at', 'ADP'), ('the', 'DET'), ('University', 'NOUN'), ('of', 'ADP'), ('Vermont', 'NOUN'), ('College', 'NOUN'), ('of', 'ADP'), ('Medicine', 'NOUN'), ('.', '.')], [('More', 'ADV'), ('common', 'ADJ'), ('chrysotile', 'NOUN'), ('fibers', 'NOUN'), ('are', 'VERB'), ('curly', 'ADJ'), ('and', 'CONJ'), ('are', 'VERB'), ('more', 'ADV'), ('easily', 'ADV'), ('rejected', 'VERB'), ('*-1', 'X'), ('by', 'ADP'), ('the', 'DET'), ('body', 'NOUN'), (',', '.'), ('Dr.', 'NOUN'), ('Mossman', 'NOUN'), ('explained', 'VERB'), ('0', 'X'), ('*T*-2', 'X'), ('.', '.')], [('In', 'ADP'), ('July', 'NOUN'), (',', '.'), ('the', 'DET'), ('Environmental', 'NOUN'), ('Protection', 'NOUN'), ('Agency', 'NOUN'), ('imposed', 'VERB'), ('a', 'DET'), ('gradual', 'ADJ'), ('ban', 'NOUN'), ('on', 'ADP'), ('virtually', 'ADV'), ('all', 'DET'), ('uses', 'NOUN'), ('of', 'ADP'), ('asbestos', 'NOUN'), ('.', '.')], [('By', 'ADP'), ('1997', 'NUM'), (',', '.'), ('almost', 'ADV'), ('all', 'DET'), ('remaining', 'VERB'), ('uses', 'NOUN'), ('of', 'ADP'), ('cancer-causing', 'ADJ'), ('asbestos', 'NOUN'), ('will', 'VERB'), ('be', 'VERB'), ('outlawed', 'VERB'), ('*-6', 'X'), ('.', '.')], [('About', 'ADP'), ('160', 'NUM'), ('workers', 'NOUN'), ('at', 'ADP'), ('a', 'DET'), ('factory', 'NOUN'), ('that', 'DET'), ('*T*-8', 'X'), ('made', 'VERB'), ('paper', 'NOUN'), ('for', 'ADP'), ('the', 'DET'), ('Kent', 'NOUN'), ('filters', 'NOUN'), ('were', 'VERB'), ('exposed', 'VERB'), ('*-7', 'X'), ('to', 'PRT'), ('asbestos', 'NOUN'), ('in', 'ADP'), ('the', 'DET'), ('1950s', 'NUM'), ('.', '.')], [('Areas', 'NOUN'), ('of', 'ADP'), ('the', 'DET'), ('factory', 'NOUN'), ('*ICH*-2', 'X'), ('were', 'VERB'), ('particularly', 'ADV'), ('dusty', 'ADJ'), ('where', 'ADV'), ('the', 'DET'), ('crocidolite', 'NOUN'), ('was', 'VERB'), ('used', 'VERB'), ('*-8', 'X'), ('*T*-1', 'X'), ('.', '.')], [('Workers', 'NOUN'), ('dumped', 'VERB'), ('large', 'ADJ'), ('burlap', 'NOUN'), ('sacks', 'NOUN'), ('of', 'ADP'), ('the', 'DET'), ('imported', 'VERB'), ('material', 'NOUN'), ('into', 'ADP'), ('a', 'DET'), ('huge', 'ADJ'), ('bin', 'NOUN'), (',', '.'), ('poured', 'VERB'), ('in', 'PRT'), ('cotton', 'NOUN'), ('and', 'CONJ'), ('acetate', 'NOUN'), ('fibers', 'NOUN'), ('and', 'CONJ'), ('mechanically', 'ADV'), ('mixed', 'VERB'), ('the', 'DET'), ('dry', 'ADJ'), ('fibers', 'NOUN'), ('in', 'ADP'), ('a', 'DET'), ('process', 'NOUN'), ('used', 'VERB'), ('*', 'X'), ('*', 'X'), ('to', 'PRT'), ('make', 'VERB'), ('filters', 'NOUN'), ('.', '.')], [('Workers', 'NOUN'), ('described', 'VERB'), ('``', '.'), ('clouds', 'NOUN'), ('of', 'ADP'), ('blue', 'ADJ'), ('dust', 'NOUN'), (\"''\", '.'), ('that', 'DET'), ('*T*-1', 'X'), ('hung', 'VERB'), ('over', 'ADP'), ('parts', 'NOUN'), ('of', 'ADP'), ('the', 'DET'), ('factory', 'NOUN'), (',', '.'), ('even', 'ADV'), ('though', 'ADP'), ('exhaust', 'NOUN'), ('fans', 'NOUN'), ('ventilated', 'VERB'), ('the', 'DET'), ('area', 'NOUN'), ('.', '.')], [('``', '.'), ('There', 'DET'), (\"'s\", 'VERB'), ('no', 'DET'), ('question', 'NOUN'), ('that', 'ADP'), ('some', 'DET'), ('of', 'ADP'), ('those', 'DET'), ('workers', 'NOUN'), ('and', 'CONJ'), ('managers', 'NOUN'), ('contracted', 'VERB'), ('asbestos-related', 'ADJ'), ('diseases', 'NOUN'), (',', '.'), (\"''\", '.'), ('said', 'VERB'), ('*T*-1', 'X'), ('Darrell', 'NOUN'), ('Phillips', 'NOUN'), (',', '.'), ('vice', 'NOUN'), ('president', 'NOUN'), ('of', 'ADP'), ('human', 'ADJ'), ('resources', 'NOUN'), ('for', 'ADP'), ('Hollingsworth', 'NOUN'), ('&', 'CONJ'), ('Vose', 'NOUN'), ('.', '.')], [('``', '.'), ('But', 'CONJ'), ('you', 'PRON'), ('have', 'VERB'), ('*-1', 'X'), ('to', 'PRT'), ('recognize', 'VERB'), ('that', 'ADP'), ('these', 'DET'), ('events', 'NOUN'), ('took', 'VERB'), ('place', 'NOUN'), ('35', 'NUM'), ('years', 'NOUN'), ('ago', 'ADP'), ('.', '.')], [('It', 'PRON'), ('has', 'VERB'), ('no', 'DET'), ('bearing', 'NOUN'), ('on', 'ADP'), ('our', 'PRON'), ('work', 'NOUN'), ('force', 'NOUN'), ('today', 'NOUN'), ('.', '.')], [('Yields', 'NOUN'), ('on', 'ADP'), ('money-market', 'ADJ'), ('mutual', 'ADJ'), ('funds', 'NOUN'), ('continued', 'VERB'), ('*-1', 'X'), ('to', 'PRT'), ('slide', 'VERB'), (',', '.'), ('amid', 'ADP'), ('signs', 'NOUN'), ('that', 'ADP'), ('portfolio', 'NOUN'), ('managers', 'NOUN'), ('expect', 'VERB'), ('further', 'ADJ'), ('declines', 'NOUN'), ('in', 'ADP'), ('interest', 'NOUN'), ('rates', 'NOUN'), ('.', '.')], [('The', 'DET'), ('average', 'ADJ'), ('seven-day', 'ADJ'), ('compound', 'NOUN'), ('yield', 'NOUN'), ('of', 'ADP'), ('the', 'DET'), ('400', 'NUM'), ('taxable', 'ADJ'), ('funds', 'NOUN'), ('tracked', 'VERB'), ('*', 'X'), ('by', 'ADP'), ('IBC', 'NOUN'), (\"'s\", 'PRT'), ('Money', 'NOUN'), ('Fund', 'NOUN'), ('Report', 'NOUN'), ('eased', 'VERB'), ('a', 'DET'), ('fraction', 'NOUN'), ('of', 'ADP'), ('a', 'DET'), ('percentage', 'NOUN'), ('point', 'NOUN'), ('to', 'PRT'), ('8.45', 'NUM'), ('%', 'NOUN'), ('from', 'ADP'), ('8.47', 'NUM'), ('%', 'NOUN'), ('for', 'ADP'), ('the', 'DET'), ('week', 'NOUN'), ('ended', 'VERB'), ('Tuesday', 'NOUN'), ('.', '.')], [('Compound', 'NOUN'), ('yields', 'NOUN'), ('assume', 'VERB'), ('reinvestment', 'NOUN'), ('of', 'ADP'), ('dividends', 'NOUN'), ('and', 'CONJ'), ('that', 'ADP'), ('the', 'DET'), ('current', 'ADJ'), ('yield', 'NOUN'), ('continues', 'VERB'), ('for', 'ADP'), ('a', 'DET'), ('year', 'NOUN'), ('.', '.')], [('Average', 'ADJ'), ('maturity', 'NOUN'), ('of', 'ADP'), ('the', 'DET'), ('funds', 'NOUN'), (\"'\", 'PRT'), ('investments', 'NOUN'), ('lengthened', 'VERB'), ('by', 'ADP'), ('a', 'DET'), ('day', 'NOUN'), ('to', 'PRT'), ('41', 'NUM'), ('days', 'NOUN'), (',', '.'), ('the', 'DET'), ('longest', 'ADJ'), ('since', 'ADP'), ('early', 'ADJ'), ('August', 'NOUN'), (',', '.'), ('according', 'VERB'), ('to', 'PRT'), ('Donoghue', 'NOUN'), (\"'s\", 'PRT'), ('.', '.')], [('Longer', 'ADJ'), ('maturities', 'NOUN'), ('are', 'VERB'), ('thought', 'VERB'), ('*-1', 'X'), ('to', 'PRT'), ('indicate', 'VERB'), ('declining', 'VERB'), ('interest', 'NOUN'), ('rates', 'NOUN'), ('because', 'ADP'), ('they', 'PRON'), ('permit', 'VERB'), ('portfolio', 'NOUN'), ('managers', 'NOUN'), ('to', 'PRT'), ('retain', 'VERB'), ('relatively', 'ADV'), ('higher', 'ADJ'), ('rates', 'NOUN'), ('for', 'ADP'), ('a', 'DET'), ('longer', 'ADJ'), ('period', 'NOUN'), ('.', '.')], [('Shorter', 'ADJ'), ('maturities', 'NOUN'), ('are', 'VERB'), ('considered', 'VERB'), ('*-9', 'X'), ('a', 'DET'), ('sign', 'NOUN'), ('of', 'ADP'), ('rising', 'VERB'), ('rates', 'NOUN'), ('because', 'ADP'), ('portfolio', 'NOUN'), ('managers', 'NOUN'), ('can', 'VERB'), ('capture', 'VERB'), ('higher', 'ADJ'), ('rates', 'NOUN'), ('sooner', 'ADV'), ('.', '.')], [('The', 'DET'), ('average', 'ADJ'), ('maturity', 'NOUN'), ('for', 'ADP'), ('funds', 'NOUN'), ('open', 'ADJ'), ('only', 'ADV'), ('to', 'PRT'), ('institutions', 'NOUN'), (',', '.'), ('considered', 'VERB'), ('by', 'ADP'), ('some', 'DET'), ('*', 'X'), ('to', 'PRT'), ('be', 'VERB'), ('a', 'DET'), ('stronger', 'ADJ'), ('indicator', 'NOUN'), ('because', 'ADP'), ('those', 'DET'), ('managers', 'NOUN'), ('watch', 'VERB'), ('the', 'DET'), ('market', 'NOUN'), ('closely', 'ADV'), (',', '.'), ('reached', 'VERB'), ('a', 'DET'), ('high', 'ADJ'), ('point', 'NOUN'), ('for', 'ADP'), ('the', 'DET'), ('year', 'NOUN'), ('--', '.'), ('33', 'NUM'), ('days', 'NOUN'), ('.', '.')]]\n"
     ]
    }
   ],
   "source": [
    "# first few tagged sentences\n",
    "print(nltk_data[:40])"
   ]
  },
  {
   "cell_type": "code",
   "execution_count": 12,
   "metadata": {},
   "outputs": [
    {
     "name": "stdout",
     "output_type": "stream",
     "text": [
      "1957\n",
      "1957\n",
      "[[('Their', 'PRON'), ('report', 'NOUN'), ('appears', 'VERB'), ('in', 'ADP'), ('today', 'NOUN'), (\"'s\", 'PRT'), ('issue', 'NOUN'), ('of', 'ADP'), ('the', 'DET'), ('journal', 'NOUN'), ('Nature', 'NOUN'), ('.', '.')], [('A', 'DET'), ('free', 'ADJ'), ('market', 'NOUN'), ('with', 'ADP'), ('a', 'DET'), ('profit', 'NOUN'), ('motive', 'NOUN'), ('will', 'VERB'), ('attract', 'VERB'), ('each', 'DET'), ('investor', 'NOUN'), ('to', 'PRT'), ('the', 'DET'), ('liquidity', 'NOUN'), ('and', 'CONJ'), ('risks', 'NOUN'), ('0', 'X'), ('he', 'PRON'), ('can', 'VERB'), ('tolerate', 'VERB'), ('*T*-1', 'X'), ('.', '.')], [('But', 'CONJ'), ('it', 'PRON'), ('said', 'VERB'), ('that', 'ADP'), ('severance', 'NOUN'), ('payments', 'NOUN'), ('to', 'PRT'), ('those', 'DET'), ('executives', 'NOUN'), ('not', 'ADV'), ('staying', 'VERB'), ('with', 'ADP'), ('the', 'DET'), ('company', 'NOUN'), ('will', 'VERB'), ('reduce', 'VERB'), ('First', 'NOUN'), ('of', 'ADP'), ('America', 'NOUN'), (\"'s\", 'PRT'), ('operating', 'NOUN'), ('results', 'NOUN'), ('for', 'ADP'), ('1989', 'NUM'), ('by', 'ADP'), ('$', '.'), ('3', 'NUM'), ('million', 'NUM'), ('*U*', 'X'), ('to', 'PRT'), ('$', '.'), ('4', 'NUM'), ('million', 'NUM'), ('*U*', 'X'), (',', '.'), ('or', 'CONJ'), ('15', 'NUM'), ('cents', 'NOUN'), ('to', 'PRT'), ('20', 'NUM'), ('cents', 'NOUN'), ('a', 'DET'), ('share', 'NOUN'), ('.', '.')], [('But', 'CONJ'), ('``', '.'), ('it', 'PRON'), ('wo', 'VERB'), (\"n't\", 'ADV'), ('lead', 'VERB'), ('to', 'PRT'), ('imminent', 'ADJ'), ('use', 'NOUN'), (\"''\", '.'), ('of', 'ADP'), ('new', 'ADJ'), ('superconductors', 'NOUN'), (',', '.'), ('cautioned', 'VERB'), ('0', 'X'), ('*T*-1', 'X'), ('Robert', 'NOUN'), ('B.', 'NOUN'), ('van', 'NOUN'), ('Dover', 'NOUN'), (',', '.'), ('one', 'NUM'), ('of', 'ADP'), ('the', 'DET'), ('AT&T', 'NOUN'), ('researchers', 'NOUN'), ('.', '.')], [('The', 'DET'), ('limits', 'NOUN'), ('to', 'PRT'), ('legal', 'ADJ'), ('absurdity', 'NOUN'), ('stretched', 'VERB'), ('another', 'DET'), ('notch', 'NOUN'), ('this', 'DET'), ('week', 'NOUN'), ('when', 'ADV'), ('the', 'DET'), ('Supreme', 'NOUN'), ('Court', 'NOUN'), ('refused', 'VERB'), ('*-2', 'X'), ('to', 'PRT'), ('hear', 'VERB'), ('an', 'DET'), ('appeal', 'NOUN'), ('from', 'ADP'), ('a', 'DET'), ('case', 'NOUN'), ('that', 'DET'), ('*T*-1', 'X'), ('says', 'VERB'), ('0', 'X'), ('corporate', 'ADJ'), ('defendants', 'NOUN'), ('must', 'VERB'), ('pay', 'VERB'), ('damages', 'NOUN'), ('even', 'ADV'), ('after', 'ADP'), ('*-3', 'X'), ('proving', 'VERB'), ('that', 'ADP'), ('they', 'PRON'), ('could', 'VERB'), ('not', 'ADV'), ('possibly', 'ADV'), ('have', 'VERB'), ('caused', 'VERB'), ('the', 'DET'), ('harm', 'NOUN'), ('.', '.')], [('The', 'DET'), ('most', 'ADV'), ('recent', 'ADJ'), ('example', 'NOUN'), ('was', 'VERB'), ('a', 'DET'), ('nearly', 'ADV'), ('$', '.'), ('17.3', 'NUM'), ('billion', 'NUM'), ('*U*', 'X'), ('fiscal', 'ADJ'), ('1990', 'NUM'), ('bill', 'NOUN'), ('funding', 'VERB'), ('the', 'DET'), ('State', 'NOUN'), (',', '.'), ('Justice', 'NOUN'), ('and', 'CONJ'), ('Commerce', 'NOUN'), ('departments', 'NOUN'), ('.', '.')], [('The', 'DET'), ('American', 'NOUN'), ('Stock', 'NOUN'), ('Exchange', 'NOUN'), ('Market', 'NOUN'), ('Value', 'NOUN'), ('Index', 'NOUN'), ('gained', 'VERB'), ('1.56', 'NUM'), ('to', 'PRT'), ('372.14', 'NUM'), ('.', '.')], [('The', 'DET'), ('30-year', 'ADJ'), ('non-callable', 'ADJ'), ('issue', 'NOUN'), ('was', 'VERB'), ('priced', 'VERB'), ('*-1', 'X'), ('at', 'ADP'), ('a', 'DET'), ('spread', 'NOUN'), ('of', 'ADP'), ('57', 'NUM'), ('basis', 'NOUN'), ('points', 'NOUN'), ('above', 'ADP'), ('the', 'DET'), ('Treasury', 'NOUN'), (\"'s\", 'PRT'), ('8', 'NUM'), ('1\\\\/8', 'NUM'), ('%', 'NOUN'), ('bellwether', 'NOUN'), ('long', 'ADJ'), ('bond', 'NOUN'), ('.', '.')], [('Mr.', 'NOUN'), ('Samnick', 'NOUN'), ('said', 'VERB'), ('0', 'X'), ('a', 'DET'), ('guild', 'NOUN'), ('disciplinary', 'ADJ'), ('hearing', 'NOUN'), ('is', 'VERB'), ('scheduled', 'VERB'), ('*-1', 'X'), ('next', 'ADP'), ('Monday', 'NOUN'), ('in', 'ADP'), ('New', 'NOUN'), ('York', 'NOUN'), ('.', '.')], [('As', 'ADP'), ('a', 'DET'), ('result', 'NOUN'), (',', '.'), ('he', 'PRON'), ('said', 'VERB'), ('0', 'X'), ('NBI', 'NOUN'), ('will', 'VERB'), ('focus', 'VERB'), ('on', 'ADP'), ('*', 'X'), ('servicing', 'VERB'), ('its', 'PRON'), ('installed', 'VERB'), ('base', 'NOUN'), ('of', 'ADP'), ('systems', 'NOUN'), (',', '.'), ('trying', 'VERB'), ('*-4', 'X'), ('to', 'PRT'), ('provide', 'VERB'), ('maintenance', 'NOUN'), ('for', 'ADP'), ('other', 'ADJ'), ('manufacturers', 'NOUN'), ('and', 'CONJ'), ('expanding', 'VERB'), ('its', 'PRON'), ('software', 'NOUN'), ('business', 'NOUN'), (',', '.'), ('*-4', 'X'), ('using', 'VERB'), ('some', 'DET'), ('of', 'ADP'), ('the', 'DET'), ('applications', 'NOUN'), ('0', 'X'), ('it', 'PRON'), ('developed', 'VERB'), ('*T*-3', 'X'), ('for', 'ADP'), ('its', 'PRON'), ('hardware', 'NOUN'), ('.', '.')], [('The', 'DET'), ('funding', 'NOUN'), ('is', 'VERB'), ('attached', 'VERB'), ('*-11', 'X'), ('to', 'PRT'), ('an', 'DET'), ('estimated', 'VERB'), ('$', '.'), ('27.1', 'NUM'), ('billion', 'NUM'), ('*U*', 'X'), ('transportation', 'NOUN'), ('bill', 'NOUN'), ('that', 'DET'), ('*T*-1', 'X'), ('goes', 'VERB'), ('*ICH*-2', 'X'), ('next', 'ADJ'), ('to', 'PRT'), ('the', 'DET'), ('Senate', 'NOUN'), ('and', 'CONJ'), ('carries', 'VERB'), ('with', 'ADP'), ('it', 'PRON'), ('a', 'DET'), ('proposed', 'VERB'), ('permanent', 'ADJ'), ('smoking', 'NOUN'), ('ban', 'NOUN'), ('on', 'ADP'), ('virtually', 'ADV'), ('all', 'DET'), ('U.S.', 'NOUN'), ('domestic', 'ADJ'), ('airline', 'NOUN'), ('flights', 'NOUN'), ('.', '.')], [('Mr.', 'NOUN'), ('Bernstein', 'NOUN'), (',', '.'), ('who', 'PRON'), ('*T*-37', 'X'), ('succeeded', 'VERB'), ('Bennett', 'NOUN'), ('Cerf', 'NOUN'), (',', '.'), ('has', 'VERB'), ('been', 'VERB'), ('only', 'ADV'), ('the', 'DET'), ('second', 'ADJ'), ('president', 'NOUN'), ('of', 'ADP'), ('Random', 'NOUN'), ('House', 'NOUN'), ('since', 'ADP'), ('it', 'PRON'), ('was', 'VERB'), ('founded', 'VERB'), ('*-45', 'X'), ('in', 'ADP'), ('1925', 'NUM'), ('.', '.')], [('``', '.'), ('We', 'PRON'), (\"'re\", 'VERB'), ('well', 'ADV'), ('positioned', 'VERB'), ('*-2', 'X'), ('with', 'ADP'), ('$', '.'), ('1.7', 'NUM'), ('billion', 'NUM'), ('*U*', 'X'), ('of', 'ADP'), ('capital', 'NOUN'), (',', '.'), (\"''\", '.'), ('a', 'DET'), ('Drexel', 'NOUN'), ('spokesman', 'NOUN'), ('said', 'VERB'), ('0', 'X'), ('*T*-1', 'X'), ('.', '.')], [('Kenneth', 'NOUN'), ('Mayland', 'NOUN'), (',', '.'), ('economist', 'NOUN'), ('for', 'ADP'), ('Society', 'NOUN'), ('Corp.', 'NOUN'), (',', '.'), ('a', 'DET'), ('Cleveland', 'NOUN'), ('bank', 'NOUN'), (',', '.'), ('said', 'VERB'), ('0', 'X'), ('demand', 'NOUN'), ('for', 'ADP'), ('exports', 'NOUN'), ('of', 'ADP'), ('factory', 'NOUN'), ('goods', 'NOUN'), ('is', 'VERB'), ('beginning', 'VERB'), ('*-1', 'X'), ('to', 'PRT'), ('taper', 'VERB'), ('off', 'PRT'), ('.', '.')], [('The', 'DET'), ('court', 'NOUN'), ('noted', 'VERB'), ('the', 'DET'), ('new', 'ADJ'), ('USIA', 'NOUN'), ('position', 'NOUN'), ('but', 'CONJ'), (',', '.'), ('just', 'ADV'), ('in', 'ADP'), ('case', 'NOUN'), (',', '.'), ('officially', 'ADV'), ('found', 'VERB'), ('``', '.'), ('that', 'ADP'), ('Congress', 'NOUN'), ('did', 'VERB'), ('not', 'ADV'), ('intend', 'VERB'), ('*-1', 'X'), ('to', 'PRT'), ('preclude', 'VERB'), ('plaintiffs', 'NOUN'), ('from', 'ADP'), ('*', 'X'), ('disseminating', 'VERB'), ('USIA', 'NOUN'), ('information', 'NOUN'), ('domestically', 'ADV'), ('.', '.'), (\"''\", '.')], [('The', 'DET'), ('House', 'NOUN'), ('voted', 'VERB'), ('*-1', 'X'), ('to', 'PRT'), ('boost', 'VERB'), ('the', 'DET'), ('federal', 'ADJ'), ('minimum', 'ADJ'), ('wage', 'NOUN'), ('for', 'ADP'), ('the', 'DET'), ('first', 'ADJ'), ('time', 'NOUN'), ('since', 'ADP'), ('early', 'ADJ'), ('1981', 'NUM'), (',', '.'), ('*-1', 'X'), ('casting', 'VERB'), ('a', 'DET'), ('solid', 'ADJ'), ('382-37', 'NUM'), ('vote', 'NOUN'), ('for', 'ADP'), ('a', 'DET'), ('compromise', 'NOUN'), ('measure', 'NOUN'), ('backed', 'VERB'), ('*', 'X'), ('by', 'ADP'), ('President', 'NOUN'), ('Bush', 'NOUN'), ('.', '.')], [('``', '.'), ('We', 'PRON'), ('have', 'VERB'), ('no', 'DET'), ('useful', 'ADJ'), ('information', 'NOUN'), ('on', 'ADP'), ('whether', 'ADP'), ('users', 'NOUN'), ('are', 'VERB'), ('at', 'ADP'), ('risk', 'NOUN'), (',', '.'), (\"''\", '.'), ('said', 'VERB'), ('*T*-1', 'X'), ('James', 'NOUN'), ('A.', 'NOUN'), ('Talcott', 'NOUN'), ('of', 'ADP'), ('Boston', 'NOUN'), (\"'s\", 'PRT'), ('Dana-Farber', 'NOUN'), ('Cancer', 'NOUN'), ('Institute', 'NOUN'), ('.', '.')], [('Cray', 'NOUN'), ('Research', 'NOUN'), ('indicated', 'VERB'), ('that', 'ADP'), ('the', 'DET'), ('survival', 'NOUN'), ('of', 'ADP'), ('a', 'DET'), ('spinoff', 'NOUN'), ('company', 'NOUN'), (',', '.'), ('which', 'DET'), ('*T*-1', 'X'), ('is', 'VERB'), ('developing', 'VERB'), ('a', 'DET'), ('new', 'ADJ'), ('supercomputer', 'NOUN'), (',', '.'), ('depends', 'VERB'), ('heavily', 'ADV'), ('on', 'ADP'), ('its', 'PRON'), ('chairman', 'NOUN'), ('and', 'CONJ'), ('chief', 'NOUN'), ('designer', 'NOUN'), (',', '.'), ('Seymour', 'NOUN'), ('Cray', 'NOUN'), ('.', '.')], [('Mr.', 'NOUN'), ('Crane', 'NOUN'), ('did', 'VERB'), (\"n't\", 'ADV'), ('return', 'VERB'), ('a', 'DET'), ('call', 'NOUN'), ('seeking', 'VERB'), ('comment', 'NOUN'), ('.', '.')], [('They', 'PRON'), ('succeed', 'VERB'), ('Daniel', 'NOUN'), ('M.', 'NOUN'), ('Rexinger', 'NOUN'), (',', '.'), ('retired', 'VERB'), ('Circuit', 'NOUN'), ('City', 'NOUN'), ('executive', 'ADJ'), ('vice', 'NOUN'), ('president', 'NOUN'), (',', '.'), ('and', 'CONJ'), ('Robert', 'NOUN'), ('R.', 'NOUN'), ('Glauber', 'NOUN'), (',', '.'), ('U.S.', 'NOUN'), ('Treasury', 'NOUN'), ('undersecretary', 'NOUN'), (',', '.'), ('on', 'ADP'), ('the', 'DET'), ('12-member', 'ADJ'), ('board', 'NOUN'), ('.', '.')], [('Heating', 'NOUN'), ('oil', 'NOUN'), ('for', 'ADP'), ('November', 'NOUN'), ('delivery', 'NOUN'), ('ended', 'VERB'), ('at', 'ADP'), ('58.64', 'NUM'), ('cents', 'NOUN'), ('a', 'DET'), ('gallon', 'NOUN'), (',', '.'), ('up', 'ADV'), ('one', 'NUM'), ('cent', 'NOUN'), ('on', 'ADP'), ('the', 'DET'), ('New', 'NOUN'), ('York', 'NOUN'), ('Mercantile', 'NOUN'), ('Exchange', 'NOUN'), ('.', '.')], [('Wedtech', 'NOUN'), ('management', 'NOUN'), ('used', 'VERB'), ('the', 'DET'), ('merit', 'NOUN'), ('system', 'NOUN'), ('.', '.')], [('Strong', 'ADJ'), ('dividend', 'NOUN'), ('growth', 'NOUN'), (',', '.'), ('he', 'PRON'), ('says', 'VERB'), ('0', 'X'), ('*T*-1', 'X'), (',', '.'), ('is', 'VERB'), ('``', '.'), ('the', 'DET'), ('black', 'ADJ'), ('widow', 'NOUN'), ('of', 'ADP'), ('valuation', 'NOUN'), (\"''\", '.'), ('--', '.'), ('a', 'DET'), ('reference', 'NOUN'), ('to', 'PRT'), ('the', 'DET'), ('female', 'ADJ'), ('spiders', 'NOUN'), ('that', 'DET'), ('*T*-231', 'X'), ('attract', 'VERB'), ('males', 'NOUN'), ('and', 'CONJ'), ('then', 'ADV'), ('kill', 'VERB'), ('them', 'PRON'), ('after', 'ADP'), ('mating', 'VERB'), ('.', '.')], [('The', 'DET'), ('aerospace', 'NOUN'), (',', '.'), ('automotive', 'ADJ'), ('supply', 'NOUN'), (',', '.'), ('electronics', 'NOUN'), ('and', 'CONJ'), ('printing-press', 'NOUN'), ('concern', 'NOUN'), ('also', 'ADV'), ('indicated', 'VERB'), ('that', 'ADP'), ('the', 'DET'), ('first', 'ADJ'), ('half', 'DET'), ('of', 'ADP'), ('fiscal', 'ADJ'), ('1990', 'NUM'), ('could', 'VERB'), ('be', 'VERB'), ('rough', 'ADJ'), ('.', '.')], [('A', 'DET'), ('reinstatement', 'NOUN'), ('of', 'ADP'), ('the', 'DET'), ('uptick', 'NOUN'), ('rule', 'NOUN'), ('for', 'ADP'), ('program', 'NOUN'), ('traders', 'NOUN'), ('would', 'VERB'), ('slow', 'VERB'), ('their', 'PRON'), ('activity', 'NOUN'), ('considerably', 'ADV'), ('.', '.')], [('Japanese', 'ADJ'), ('investment', 'NOUN'), ('in', 'ADP'), ('Southeast', 'NOUN'), ('Asia', 'NOUN'), ('is', 'VERB'), ('propelling', 'VERB'), ('the', 'DET'), ('region', 'NOUN'), ('toward', 'ADP'), ('economic', 'ADJ'), ('integration', 'NOUN'), ('.', '.')], [('Also', 'ADV'), (',', '.'), ('there', 'DET'), ('has', 'VERB'), ('been', 'VERB'), ('a', 'DET'), ('switch', 'NOUN'), ('*ICH*-3', 'X'), ('in', 'ADP'), ('the', 'DET'), ('past', 'ADJ'), ('decade', 'NOUN'), ('to', 'PRT'), ('planting', 'NOUN'), ('of', 'ADP'), ('orange', 'ADJ'), ('trees', 'NOUN'), ('in', 'ADP'), ('areas', 'NOUN'), ('that', 'DET'), ('*T*-5', 'X'), ('were', 'VERB'), ('previously', 'ADV'), ('used', 'VERB'), ('*-1', 'X'), ('for', 'ADP'), ('cane', 'NOUN'), (',', '.'), ('and', 'CONJ'), ('this', 'DET'), ('change', 'NOUN'), ('is', 'VERB'), ('being', 'VERB'), ('felt', 'VERB'), ('*-4', 'X'), ('now', 'ADV'), (',', '.'), ('she', 'PRON'), ('said', 'VERB'), ('0', 'X'), ('*T*-2', 'X'), ('.', '.')], [('Big', 'NOUN'), ('Board', 'NOUN'), ('Chairman', 'NOUN'), ('John', 'NOUN'), ('Phelan', 'NOUN'), ('said', 'VERB'), ('yesterday', 'NOUN'), ('that', 'ADP'), ('he', 'PRON'), ('could', 'VERB'), ('support', 'VERB'), ('*', 'X'), ('letting', 'VERB'), ('federal', 'ADJ'), ('regulators', 'NOUN'), ('suspend', 'VERB'), ('program', 'NOUN'), ('trading', 'NOUN'), ('during', 'ADP'), ('wild', 'ADJ'), ('stock-price', 'NOUN'), ('swings', 'NOUN'), ('.', '.')], [('Mr.', 'NOUN'), ('Karns', 'NOUN'), ('continues', 'VERB'), ('as', 'ADP'), ('chairman', 'NOUN'), ('.', '.')], [('He', 'PRON'), ('also', 'ADV'), ('is', 'VERB'), ('a', 'DET'), ('consensus', 'NOUN'), ('manager', 'NOUN'), (',', '.'), ('insiders', 'NOUN'), ('say', 'VERB'), ('0', 'X'), ('*T*-1', 'X'), ('.', '.')], [('Elsewhere', 'ADV'), (':', '.')], [('Los', 'NOUN'), ('Angeles', 'NOUN'), ('is', 'VERB'), ('a', 'DET'), ('sprawling', 'ADJ'), (',', '.'), ('balkanized', 'ADJ'), ('newspaper', 'NOUN'), ('market', 'NOUN'), (',', '.'), ('and', 'CONJ'), ('advertisers', 'NOUN'), ('seemed', 'VERB'), ('*-1', 'X'), ('to', 'PRT'), ('feel', 'VERB'), ('0', 'X'), ('they', 'PRON'), ('could', 'VERB'), ('buy', 'VERB'), ('space', 'NOUN'), ('in', 'ADP'), ('the', 'DET'), ('mammoth', 'ADJ'), ('Times', 'NOUN'), (',', '.'), ('then', 'ADV'), ('target', 'VERB'), ('a', 'DET'), ('particular', 'ADJ'), ('area', 'NOUN'), ('with', 'ADP'), ('one', 'NUM'), ('of', 'ADP'), ('the', 'DET'), ('regional', 'ADJ'), ('dailies', 'NOUN'), ('.', '.')], [('According', 'VERB'), ('to', 'PRT'), ('news', 'NOUN'), ('service', 'NOUN'), ('reports', 'NOUN'), (',', '.'), ('most', 'ADJ'), ('workers', 'NOUN'), ('at', 'ADP'), ('the', 'DET'), ('Disputado', 'NOUN'), ('mines', 'NOUN'), ('owned', 'VERB'), ('*', 'X'), ('by', 'ADP'), ('Exxon', 'NOUN'), ('Corp.', 'NOUN'), ('agreed', 'VERB'), ('to', 'PRT'), ('a', 'DET'), ('new', 'ADJ'), ('two-year', 'ADJ'), ('wage', 'NOUN'), ('contract', 'NOUN'), ('that', 'DET'), ('*T*-1', 'X'), ('includes', 'VERB'), ('a', 'DET'), ('5', 'NUM'), ('%', 'NOUN'), ('increase', 'NOUN'), ('and', 'CONJ'), ('other', 'ADJ'), ('benefits', 'NOUN'), ('.', '.')], [('I', 'PRON'), ('even', 'ADV'), ('dreamt', 'VERB'), ('about', 'ADP'), ('school', 'NOUN'), ('and', 'CONJ'), ('new', 'ADJ'), ('things', 'NOUN'), ('0', 'X'), ('*', 'X'), ('to', 'PRT'), ('do', 'VERB'), ('*T*-1', 'X'), ('with', 'ADP'), ('my', 'PRON'), ('students', 'NOUN'), ('.', '.'), (\"''\", '.')], [('The', 'DET'), ('rest', 'NOUN'), ('were', 'VERB'), ('history', 'NOUN'), (',', '.'), ('sociology', 'NOUN'), (',', '.'), ('finance', 'NOUN'), ('--', '.'), ('subjects', 'NOUN'), ('0', 'X'), ('they', 'PRON'), ('never', 'ADV'), ('had', 'VERB'), ('*T*-1', 'X'), ('.', '.'), (\"''\", '.')], [('RMS', 'NOUN'), ('said', 'VERB'), ('0', 'X'), ('it', 'PRON'), ('had', 'VERB'), ('a', 'DET'), ('loss', 'NOUN'), ('of', 'ADP'), ('$', '.'), ('158,666', 'NUM'), ('*U*', 'X'), (',', '.'), ('or', 'CONJ'), ('10', 'NUM'), ('cents', 'NOUN'), ('a', 'DET'), ('share', 'NOUN'), (',', '.'), ('in', 'ADP'), ('the', 'DET'), ('third', 'ADJ'), ('quarter', 'NOUN'), (',', '.'), ('compared', 'VERB'), ('with', 'ADP'), ('a', 'DET'), ('year-earlier', 'ADJ'), ('loss', 'NOUN'), ('of', 'ADP'), ('$', '.'), ('26,956', 'NUM'), ('*U*', 'X'), (',', '.'), ('or', 'CONJ'), ('two', 'NUM'), ('cents', 'NOUN'), ('a', 'DET'), ('share', 'NOUN'), ('.', '.')], [('Roederer', 'NOUN'), ('Cristal', 'NOUN'), ('at', 'ADP'), ('$', '.'), ('90', 'NUM'), ('*U*', 'X'), ('a', 'DET'), ('bottle', 'NOUN'), ('sells', 'VERB'), ('out', 'PRT'), ('around', 'ADP'), ('the', 'DET'), ('country', 'NOUN'), ('and', 'CONJ'), ('Taittinger', 'NOUN'), (\"'s\", 'PRT'), ('Comtes', 'NOUN'), ('de', 'ADP'), ('Champagne', 'NOUN'), ('Blanc', 'NOUN'), ('de', 'ADP'), ('Blancs', 'NOUN'), ('is', 'VERB'), ('encroaching', 'VERB'), ('upon', 'ADP'), ('that', 'DET'), ('level', 'NOUN'), ('.', '.')], [('Mr.', 'NOUN'), ('Watson', 'NOUN'), ('says', 'VERB'), ('0', 'X'), ('Mrs.', 'NOUN'), ('Yeargin', 'NOUN'), ('never', 'ADV'), ('complained', 'VERB'), ('to', 'PRT'), ('school', 'NOUN'), ('officials', 'NOUN'), ('that', 'ADP'), ('the', 'DET'), ('standardized', 'ADJ'), ('test', 'NOUN'), ('was', 'VERB'), ('unfair', 'ADJ'), ('.', '.')], [('Mr.', 'NOUN'), ('Nichol', 'NOUN'), ('said', 'VERB'), ('0', 'X'), ('he', 'PRON'), ('was', 'VERB'), ('``', '.'), ('extremely', 'ADV'), ('disappointed', 'VERB'), ('in', 'ADP'), ('the', 'DET'), ('continuing', 'VERB'), ('deterioration', 'NOUN'), ('of', 'ADP'), ('the', 'DET'), ('company', 'NOUN'), (\"'s\", 'PRT'), ('operations', 'NOUN'), ('while', 'ADP'), ('it', 'PRON'), ('attempted', 'VERB'), ('*-1', 'X'), ('to', 'PRT'), ('conclude', 'VERB'), ('the', 'DET'), ('reorganization', 'NOUN'), ('during', 'ADP'), ('the', 'DET'), ('past', 'ADJ'), ('four', 'NUM'), ('months', 'NOUN'), ('.', '.'), (\"''\", '.')], [('It', 'PRON'), ('employs', 'VERB'), ('2,700', 'NUM'), ('people', 'NOUN'), ('and', 'CONJ'), ('has', 'VERB'), ('annual', 'ADJ'), ('revenue', 'NOUN'), ('of', 'ADP'), ('about', 'ADP'), ('$', '.'), ('370', 'NUM'), ('million', 'NUM'), ('*U*', 'X'), ('.', '.')]]\n"
     ]
    }
   ],
   "source": [
    "# Splitting into train and test\n",
    "random.seed(1234)\n",
    "train_set, val_set = train_test_split(nltk_data,test_size=0.5)\n",
    "\n",
    "print(len(train_set))\n",
    "print(len(val_set))\n",
    "print(train_set[:40])"
   ]
  },
  {
   "cell_type": "code",
   "execution_count": 14,
   "metadata": {},
   "outputs": [
    {
     "data": {
      "text/plain": [
       "50218"
      ]
     },
     "execution_count": 14,
     "metadata": {},
     "output_type": "execute_result"
    }
   ],
   "source": [
    "# Getting list of tagged words\n",
    "train_tagged_words = [tup for sent in train_set for tup in sent]\n",
    "len(train_tagged_words)"
   ]
  },
  {
   "cell_type": "code",
   "execution_count": 15,
   "metadata": {},
   "outputs": [
    {
     "data": {
      "text/plain": [
       "['Their',\n",
       " 'report',\n",
       " 'appears',\n",
       " 'in',\n",
       " 'today',\n",
       " \"'s\",\n",
       " 'issue',\n",
       " 'of',\n",
       " 'the',\n",
       " 'journal']"
      ]
     },
     "execution_count": 15,
     "metadata": {},
     "output_type": "execute_result"
    }
   ],
   "source": [
    "# tokens \n",
    "tokens = [pair[0] for pair in train_tagged_words]\n",
    "tokens[:10]"
   ]
  },
  {
   "cell_type": "code",
   "execution_count": 16,
   "metadata": {},
   "outputs": [
    {
     "name": "stdout",
     "output_type": "stream",
     "text": [
      "8490\n"
     ]
    }
   ],
   "source": [
    "# vocabulary\n",
    "V = set(tokens)\n",
    "print(len(V))"
   ]
  },
  {
   "cell_type": "code",
   "execution_count": 17,
   "metadata": {},
   "outputs": [
    {
     "data": {
      "text/plain": [
       "12"
      ]
     },
     "execution_count": 17,
     "metadata": {},
     "output_type": "execute_result"
    }
   ],
   "source": [
    "# number of tags\n",
    "T = set([pair[1] for pair in train_tagged_words])\n",
    "len(T)"
   ]
  },
  {
   "cell_type": "code",
   "execution_count": 18,
   "metadata": {},
   "outputs": [
    {
     "name": "stdout",
     "output_type": "stream",
     "text": [
      "{'PRON', '.', 'VERB', 'CONJ', 'ADJ', 'X', 'ADV', 'NUM', 'NOUN', 'DET', 'ADP', 'PRT'}\n"
     ]
    }
   ],
   "source": [
    "print(T)"
   ]
  },
  {
   "cell_type": "code",
   "execution_count": 22,
   "metadata": {
    "collapsed": true
   },
   "outputs": [],
   "source": [
    "### Emission Probabilities"
   ]
  },
  {
   "cell_type": "code",
   "execution_count": 20,
   "metadata": {
    "collapsed": true
   },
   "outputs": [],
   "source": [
    "# computing P(w/t) and storing in T x V matrix\n",
    "t = len(T)\n",
    "v = len(V)\n",
    "w_given_t = np.zeros((t, v))"
   ]
  },
  {
   "cell_type": "code",
   "execution_count": 21,
   "metadata": {
    "collapsed": true
   },
   "outputs": [],
   "source": [
    "# compute word given tag: Emission Probability\n",
    "def word_given_tag(word, tag, train_bag = train_tagged_words):\n",
    "    tag_list = [pair for pair in train_bag if pair[1]==tag]\n",
    "    count_tag = len(tag_list)\n",
    "    w_given_tag_list = [pair[0] for pair in tag_list if pair[0]==word]\n",
    "    count_w_given_tag = len(w_given_tag_list)\n",
    "    \n",
    "    return (count_w_given_tag, count_tag)"
   ]
  },
  {
   "cell_type": "code",
   "execution_count": 23,
   "metadata": {
    "collapsed": true
   },
   "outputs": [],
   "source": [
    "### Transition Probabilities"
   ]
  },
  {
   "cell_type": "code",
   "execution_count": 25,
   "metadata": {
    "collapsed": true
   },
   "outputs": [],
   "source": [
    "# compute tag given tag: tag2(t2) given tag1 (t1), i.e. Transition Probability\n",
    "\n",
    "def t2_given_t1(t2, t1, train_bag = train_tagged_words):\n",
    "    tags = [pair[1] for pair in train_bag]\n",
    "    count_t1 = len([t for t in tags if t==t1])\n",
    "    count_t2_t1 = 0\n",
    "    for index in range(len(tags)-1):\n",
    "        if tags[index]==t1 and tags[index+1] == t2:\n",
    "            count_t2_t1 += 1\n",
    "    return (count_t2_t1, count_t1)"
   ]
  },
  {
   "cell_type": "code",
   "execution_count": 26,
   "metadata": {
    "collapsed": true
   },
   "outputs": [],
   "source": [
    "# creating t x t transition matrix of tags\n",
    "# each column is t2, each row is t1\n",
    "# thus M(i, j) represents P(tj given ti)\n",
    "\n",
    "tags_matrix = np.zeros((len(T), len(T)), dtype='float32')\n",
    "for i, t1 in enumerate(list(T)):\n",
    "    for j, t2 in enumerate(list(T)): \n",
    "        tags_matrix[i, j] = t2_given_t1(t2, t1)[0]/t2_given_t1(t2, t1)[1]"
   ]
  },
  {
   "cell_type": "code",
   "execution_count": 27,
   "metadata": {},
   "outputs": [
    {
     "data": {
      "text/plain": [
       "array([[  5.78452647e-03,   4.12147492e-02,   4.83731031e-01,\n",
       "          4.33839485e-03,   7.66449720e-02,   9.61677507e-02,\n",
       "          3.90455537e-02,   5.06146066e-03,   2.03181490e-01,\n",
       "          7.95372389e-03,   2.45842375e-02,   1.22921187e-02],\n",
       "       [  7.18080550e-02,   9.64867175e-02,   8.91173929e-02,\n",
       "          6.06683791e-02,   4.30162810e-02,   2.53641810e-02,\n",
       "          4.83290479e-02,   7.67780617e-02,   2.22793490e-01,\n",
       "          1.72579259e-01,   9.08311903e-02,   2.05655536e-03],\n",
       "       [  3.61570232e-02,   3.68949249e-02,   1.68536007e-01,\n",
       "          6.34592678e-03,   6.19834699e-02,   2.14433298e-01,\n",
       "          8.23494717e-02,   2.00708378e-02,   1.11717828e-01,\n",
       "          1.36658803e-01,   9.45985839e-02,   3.02538369e-02],\n",
       "       [  6.04255311e-02,   3.48936170e-02,   1.59999996e-01,\n",
       "          0.00000000e+00,   1.07234046e-01,   5.95744699e-03,\n",
       "          5.36170229e-02,   4.76595759e-02,   3.60851049e-01,\n",
       "          1.08936168e-01,   5.36170229e-02,   6.80851052e-03],\n",
       "       [  0.00000000e+00,   6.68130517e-02,   1.28607275e-02,\n",
       "          1.53701380e-02,   6.90087825e-02,   2.03889590e-02,\n",
       "          5.95984934e-03,   2.03889590e-02,   6.93538249e-01,\n",
       "          5.33249695e-03,   7.84190744e-02,   1.19196987e-02],\n",
       "       [  5.48536219e-02,   1.60246536e-01,   2.07396001e-01,\n",
       "          1.01694912e-02,   1.66409854e-02,   7.45762736e-02,\n",
       "          2.95839757e-02,   2.46533123e-03,   6.74884468e-02,\n",
       "          5.48536219e-02,   1.37750387e-01,   1.83975354e-01],\n",
       "       [  1.39064472e-02,   1.32111251e-01,   3.52085978e-01,\n",
       "          6.32111263e-03,   1.34007588e-01,   2.21238937e-02,\n",
       "          8.65992382e-02,   2.78128944e-02,   2.97092292e-02,\n",
       "          6.57395720e-02,   1.16308473e-01,   1.32743362e-02],\n",
       "       [  0.00000000e+00,   1.12312309e-01,   2.34234240e-02,\n",
       "          1.68168172e-02,   3.06306314e-02,   2.17417419e-01,\n",
       "          3.60360369e-03,   1.78378373e-01,   3.53153139e-01,\n",
       "          3.60360369e-03,   3.84384394e-02,   2.22222228e-02],\n",
       "       [  4.22028499e-03,   2.38964990e-01,   1.44873396e-01,\n",
       "          4.45551388e-02,   1.28684100e-02,   2.73972601e-02,\n",
       "          1.72270648e-02,   9.27079003e-03,   2.65670389e-01,\n",
       "          1.48055898e-02,   1.77321151e-01,   4.28255163e-02],\n",
       "       [  3.39136343e-03,   1.89916342e-02,   4.25050855e-02,\n",
       "          6.78272685e-04,   2.06194893e-01,   4.65747230e-02,\n",
       "          1.15306349e-02,   1.92177258e-02,   6.35993659e-01,\n",
       "          5.65227214e-03,   9.26972646e-03,   0.00000000e+00],\n",
       "       [  6.73564598e-02,   3.99675407e-02,   8.11523665e-03,\n",
       "          6.08642702e-04,   1.04686551e-01,   3.61128002e-02,\n",
       "          1.07526882e-02,   6.24873191e-02,   3.19334537e-01,\n",
       "          3.32521796e-01,   1.66362338e-02,   1.42016634e-03],\n",
       "       [  1.98336523e-02,   3.83877158e-02,   3.99872035e-01,\n",
       "          1.27959053e-03,   8.57325643e-02,   1.27959056e-02,\n",
       "          8.95713363e-03,   4.92642373e-02,   2.55918115e-01,\n",
       "          1.07485607e-01,   1.91938579e-02,   1.27959053e-03]], dtype=float32)"
      ]
     },
     "execution_count": 27,
     "metadata": {},
     "output_type": "execute_result"
    }
   ],
   "source": [
    "tags_matrix"
   ]
  },
  {
   "cell_type": "code",
   "execution_count": null,
   "metadata": {
    "collapsed": true
   },
   "outputs": [],
   "source": [
    "len(train_tagged_words)"
   ]
  },
  {
   "cell_type": "code",
   "execution_count": null,
   "metadata": {
    "collapsed": true
   },
   "outputs": [],
   "source": []
  },
  {
   "cell_type": "code",
   "execution_count": null,
   "metadata": {
    "collapsed": true
   },
   "outputs": [],
   "source": []
  },
  {
   "cell_type": "markdown",
   "metadata": {},
   "source": [
    "### Build the vanilla Viterbi based POS tagger"
   ]
  },
  {
   "cell_type": "code",
   "execution_count": 1,
   "metadata": {},
   "outputs": [
    {
     "ename": "NameError",
     "evalue": "name 'train_tagged_words' is not defined",
     "output_type": "error",
     "traceback": [
      "\u001b[1;31m---------------------------------------------------------------------------\u001b[0m",
      "\u001b[1;31mNameError\u001b[0m                                 Traceback (most recent call last)",
      "\u001b[1;32m<ipython-input-1-59fe24e1431b>\u001b[0m in \u001b[0;36m<module>\u001b[1;34m()\u001b[0m\n\u001b[0;32m      1\u001b[0m \u001b[1;31m# Viterbi Heuristic\u001b[0m\u001b[1;33m\u001b[0m\u001b[1;33m\u001b[0m\u001b[0m\n\u001b[1;32m----> 2\u001b[1;33m \u001b[1;32mdef\u001b[0m \u001b[0mViterbi\u001b[0m\u001b[1;33m(\u001b[0m\u001b[0mwords\u001b[0m\u001b[1;33m,\u001b[0m \u001b[0mtrain_bag\u001b[0m \u001b[1;33m=\u001b[0m \u001b[0mtrain_tagged_words\u001b[0m\u001b[1;33m)\u001b[0m\u001b[1;33m:\u001b[0m\u001b[1;33m\u001b[0m\u001b[0m\n\u001b[0m\u001b[0;32m      3\u001b[0m     \u001b[0mstate\u001b[0m \u001b[1;33m=\u001b[0m \u001b[1;33m[\u001b[0m\u001b[1;33m]\u001b[0m\u001b[1;33m\u001b[0m\u001b[0m\n\u001b[0;32m      4\u001b[0m     \u001b[0mT\u001b[0m \u001b[1;33m=\u001b[0m \u001b[0mlist\u001b[0m\u001b[1;33m(\u001b[0m\u001b[0mset\u001b[0m\u001b[1;33m(\u001b[0m\u001b[1;33m[\u001b[0m\u001b[0mpair\u001b[0m\u001b[1;33m[\u001b[0m\u001b[1;36m1\u001b[0m\u001b[1;33m]\u001b[0m \u001b[1;32mfor\u001b[0m \u001b[0mpair\u001b[0m \u001b[1;32min\u001b[0m \u001b[0mtrain_bag\u001b[0m\u001b[1;33m]\u001b[0m\u001b[1;33m)\u001b[0m\u001b[1;33m)\u001b[0m\u001b[1;33m\u001b[0m\u001b[0m\n\u001b[0;32m      5\u001b[0m \u001b[1;33m\u001b[0m\u001b[0m\n",
      "\u001b[1;31mNameError\u001b[0m: name 'train_tagged_words' is not defined"
     ]
    }
   ],
   "source": [
    "# Viterbi Heuristic\n",
    "def Viterbi(words, train_bag = train_tagged_words):\n",
    "    state = []\n",
    "    T = list(set([pair[1] for pair in train_bag]))\n",
    "    \n",
    "    for key, word in enumerate(words):\n",
    "        #initialise list of probability column for a given observation\n",
    "        p = [] \n",
    "        for tag in T:\n",
    "            if key == 0:\n",
    "                transition_p = tags_df.loc['.', tag]\n",
    "            else:\n",
    "                transition_p = tags_df.loc[state[-1], tag]\n",
    "                \n",
    "            # compute emission and state probabilities\n",
    "            emission_p = word_given_tag(words[key], tag)[0]/word_given_tag(words[key], tag)[1]\n",
    "            state_probability = emission_p * transition_p    \n",
    "            p.append(state_probability)\n",
    "            \n",
    "        pmax = max(p)\n",
    "        # getting state for which probability is maximum\n",
    "        state_max = T[p.index(pmax)] \n",
    "        state.append(state_max)\n",
    "    return list(zip(words, state))"
   ]
  },
  {
   "cell_type": "code",
   "execution_count": null,
   "metadata": {
    "collapsed": true
   },
   "outputs": [],
   "source": []
  },
  {
   "cell_type": "markdown",
   "metadata": {},
   "source": [
    "### Solve the problem of unknown words"
   ]
  },
  {
   "cell_type": "code",
   "execution_count": null,
   "metadata": {
    "collapsed": true
   },
   "outputs": [],
   "source": []
  },
  {
   "cell_type": "code",
   "execution_count": null,
   "metadata": {
    "collapsed": true
   },
   "outputs": [],
   "source": []
  },
  {
   "cell_type": "markdown",
   "metadata": {},
   "source": [
    "#### Evaluating tagging accuracy"
   ]
  },
  {
   "cell_type": "code",
   "execution_count": null,
   "metadata": {
    "collapsed": true
   },
   "outputs": [],
   "source": []
  },
  {
   "cell_type": "code",
   "execution_count": null,
   "metadata": {
    "collapsed": true
   },
   "outputs": [],
   "source": []
  },
  {
   "cell_type": "markdown",
   "metadata": {},
   "source": [
    "### Compare the tagging accuracies of the modifications with the vanilla Viterbi algorithm"
   ]
  },
  {
   "cell_type": "code",
   "execution_count": null,
   "metadata": {
    "collapsed": true
   },
   "outputs": [],
   "source": []
  },
  {
   "cell_type": "code",
   "execution_count": null,
   "metadata": {
    "collapsed": true
   },
   "outputs": [],
   "source": []
  },
  {
   "cell_type": "code",
   "execution_count": null,
   "metadata": {
    "collapsed": true
   },
   "outputs": [],
   "source": []
  },
  {
   "cell_type": "markdown",
   "metadata": {},
   "source": [
    "### List down cases which were incorrectly tagged by original POS tagger and got corrected by your modifications"
   ]
  },
  {
   "cell_type": "code",
   "execution_count": null,
   "metadata": {
    "collapsed": true
   },
   "outputs": [],
   "source": []
  },
  {
   "cell_type": "code",
   "execution_count": null,
   "metadata": {
    "collapsed": true
   },
   "outputs": [],
   "source": []
  },
  {
   "cell_type": "code",
   "execution_count": null,
   "metadata": {
    "collapsed": true
   },
   "outputs": [],
   "source": []
  }
 ],
 "metadata": {
  "kernelspec": {
   "display_name": "Python 3",
   "language": "python",
   "name": "python3"
  },
  "language_info": {
   "codemirror_mode": {
    "name": "ipython",
    "version": 3
   },
   "file_extension": ".py",
   "mimetype": "text/x-python",
   "name": "python",
   "nbconvert_exporter": "python",
   "pygments_lexer": "ipython3",
   "version": "3.6.4"
  }
 },
 "nbformat": 4,
 "nbformat_minor": 2
}

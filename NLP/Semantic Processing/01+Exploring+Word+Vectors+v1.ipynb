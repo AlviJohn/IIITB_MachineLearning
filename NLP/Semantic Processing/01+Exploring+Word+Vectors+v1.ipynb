{
 "cells": [
  {
   "cell_type": "code",
   "execution_count": 1,
   "metadata": {
    "scrolled": true
   },
   "outputs": [
    {
     "name": "stderr",
     "output_type": "stream",
     "text": [
      "C:\\Users\\UPGRAD\\Anaconda3\\lib\\site-packages\\gensim\\utils.py:1197: UserWarning: detected Windows; aliasing chunkize to chunkize_serial\n",
      "  warnings.warn(\"detected Windows; aliasing chunkize to chunkize_serial\")\n"
     ]
    }
   ],
   "source": [
    "import nltk\n",
    "from gensim.models import word2vec\n",
    "from gensim.models.word2vec import Word2Vec"
   ]
  },
  {
   "cell_type": "code",
   "execution_count": 2,
   "metadata": {},
   "outputs": [],
   "source": [
    "import numpy as np\n",
    "import matplotlib.pyplot as plt\n",
    "import os"
   ]
  },
  {
   "cell_type": "markdown",
   "metadata": {},
   "source": [
    "### Creating our sentences to train the word vectors"
   ]
  },
  {
   "cell_type": "code",
   "execution_count": 3,
   "metadata": {},
   "outputs": [],
   "source": [
    "TextCorpus  = [\"I like Upgrad\",\n",
    "               \"Upgrad has a good ML program\",\n",
    "               \"Upgrad has good faculty\",\n",
    "               \"Rahim is that good faculty\",\n",
    "               \"I like ML\"\n",
    "]"
   ]
  },
  {
   "cell_type": "code",
   "execution_count": 4,
   "metadata": {},
   "outputs": [
    {
     "data": {
      "text/plain": [
       "[['I', 'like', 'Upgrad'], ['Upgrad', 'has', 'a', 'good', 'ML', 'program']]"
      ]
     },
     "execution_count": 4,
     "metadata": {},
     "output_type": "execute_result"
    }
   ],
   "source": [
    "text_tokens = [sent.split() for sent in TextCorpus]\n",
    "text_tokens[:2]"
   ]
  },
  {
   "cell_type": "markdown",
   "metadata": {},
   "source": [
    "#### Training the word vectors"
   ]
  },
  {
   "cell_type": "code",
   "execution_count": 5,
   "metadata": {},
   "outputs": [],
   "source": [
    "model = Word2Vec(text_tokens,min_count=1)"
   ]
  },
  {
   "cell_type": "code",
   "execution_count": 9,
   "metadata": {},
   "outputs": [
    {
     "data": {
      "text/plain": [
       "array([ 4.1324904e-04,  4.7712489e-03, -3.7656778e-03, -2.5027650e-03,\n",
       "        2.5290735e-03,  1.2303479e-03, -8.7193609e-04,  3.6144145e-03,\n",
       "        3.1301519e-03, -3.8770873e-03,  4.1277776e-03, -2.3258716e-04,\n",
       "       -3.4645628e-03,  1.2356151e-03, -1.5531549e-03, -1.3762547e-03,\n",
       "       -3.7929048e-03, -2.1532457e-04, -1.5933207e-03, -1.8871054e-03,\n",
       "        4.2224652e-03,  2.7523972e-03,  1.5466009e-03,  8.3201705e-04,\n",
       "       -2.4442708e-03, -4.0613719e-05, -3.2317925e-03,  1.8430805e-03,\n",
       "       -2.3801613e-03,  3.0656538e-03, -3.1491164e-03, -1.6801772e-03,\n",
       "       -5.6319055e-04, -3.4213329e-03, -2.2489063e-03, -2.1357930e-03,\n",
       "       -1.5288112e-03,  1.0242168e-03, -4.8836414e-03,  2.7462265e-03,\n",
       "        1.1292890e-03, -3.5701676e-03, -4.7314111e-03,  2.5192657e-03,\n",
       "       -7.7704625e-04,  2.7301295e-03,  7.4927119e-04, -1.3055992e-03,\n",
       "        1.5132067e-05,  3.8666835e-03, -3.9247717e-03,  7.2236653e-05,\n",
       "        3.7036168e-03, -5.7314843e-04, -2.2919802e-03, -9.6071168e-04,\n",
       "       -3.8390807e-03, -2.4805858e-03,  2.6819084e-03, -1.7761262e-03,\n",
       "       -4.4758450e-03, -4.4919385e-04, -3.1664874e-03, -1.0342150e-03,\n",
       "        1.2544636e-03,  2.1886679e-03, -2.2333094e-03, -3.1112405e-04,\n",
       "        3.8418334e-03,  4.8886510e-03, -4.9849914e-04, -9.1159990e-04,\n",
       "        4.2312602e-03,  3.9027410e-03,  1.9398445e-03,  4.7397311e-03,\n",
       "        4.6145762e-03,  4.8735128e-03, -3.3232793e-03, -4.4657853e-03,\n",
       "        1.7053252e-03, -2.4065785e-03,  9.4189250e-04,  7.4635149e-04,\n",
       "       -2.4219924e-03, -4.6233931e-03,  2.6393472e-03,  2.2501142e-03,\n",
       "        3.6693953e-03,  3.2493914e-03,  4.0327455e-04,  3.1858525e-04,\n",
       "        4.6942350e-03, -2.5842755e-04, -2.0234338e-03,  3.8077601e-03,\n",
       "        2.8841873e-04,  3.5036243e-03,  4.2000841e-03, -3.5455306e-03],\n",
       "      dtype=float32)"
      ]
     },
     "execution_count": 9,
     "metadata": {},
     "output_type": "execute_result"
    }
   ],
   "source": [
    "model.wv['ML']"
   ]
  },
  {
   "cell_type": "code",
   "execution_count": 10,
   "metadata": {},
   "outputs": [
    {
     "data": {
      "text/plain": [
       "100"
      ]
     },
     "execution_count": 10,
     "metadata": {},
     "output_type": "execute_result"
    }
   ],
   "source": [
    "len(model.wv['ML'])"
   ]
  },
  {
   "cell_type": "markdown",
   "metadata": {},
   "source": [
    "Similarity between word vectors is measures using Cosine similarity"
   ]
  },
  {
   "cell_type": "code",
   "execution_count": 14,
   "metadata": {},
   "outputs": [
    {
     "data": {
      "text/plain": [
       "[('good', 0.10796551406383514),\n",
       " ('has', 0.10518816113471985),\n",
       " ('a', 0.07318789511919022),\n",
       " ('ML', 0.06424212455749512),\n",
       " ('program', 0.05126670002937317)]"
      ]
     },
     "execution_count": 14,
     "metadata": {},
     "output_type": "execute_result"
    }
   ],
   "source": [
    "model.wv.most_similar(\"faculty\",topn=5)"
   ]
  },
  {
   "cell_type": "markdown",
   "metadata": {},
   "source": [
    "### Training our word vectors on the text8 corpus\n",
    "Cleaned Wikipedia text, compressed to 100MB"
   ]
  },
  {
   "cell_type": "markdown",
   "metadata": {},
   "source": [
    "#### Importing the raw text file"
   ]
  },
  {
   "cell_type": "code",
   "execution_count": 16,
   "metadata": {},
   "outputs": [],
   "source": [
    "sentences = word2vec.Text8Corpus('text8')"
   ]
  },
  {
   "cell_type": "code",
   "execution_count": 17,
   "metadata": {},
   "outputs": [
    {
     "data": {
      "text/plain": [
       "gensim.models.word2vec.Text8Corpus"
      ]
     },
     "execution_count": 17,
     "metadata": {},
     "output_type": "execute_result"
    }
   ],
   "source": [
    "type(sentences)"
   ]
  },
  {
   "cell_type": "markdown",
   "metadata": {},
   "source": [
    "#### Using all default parameters"
   ]
  },
  {
   "cell_type": "code",
   "execution_count": 17,
   "metadata": {
    "scrolled": true
   },
   "outputs": [],
   "source": [
    "model = Word2Vec(sentences)"
   ]
  },
  {
   "cell_type": "code",
   "execution_count": 18,
   "metadata": {},
   "outputs": [
    {
     "data": {
      "text/plain": [
       "[('humanity', 0.7948495149612427),\n",
       " ('goodness', 0.7939766049385071),\n",
       " ('compassion', 0.7429738640785217),\n",
       " ('perfection', 0.7409871816635132),\n",
       " ('mankind', 0.7376770377159119),\n",
       " ('pleasure', 0.7236072421073914),\n",
       " ('righteousness', 0.7178847789764404),\n",
       " ('immortality', 0.7166392207145691),\n",
       " ('dignity', 0.7086809277534485),\n",
       " ('patience', 0.7085623145103455)]"
      ]
     },
     "execution_count": 18,
     "metadata": {},
     "output_type": "execute_result"
    }
   ],
   "source": [
    "model.wv.most_similar(\"happiness\")"
   ]
  },
  {
   "cell_type": "code",
   "execution_count": 19,
   "metadata": {
    "scrolled": true
   },
   "outputs": [
    {
     "data": {
      "text/plain": [
       "[('elizabeth', 0.7717320919036865),\n",
       " ('princess', 0.758914589881897),\n",
       " ('prince', 0.7187077403068542),\n",
       " ('king', 0.7149652242660522),\n",
       " ('consort', 0.6910183429718018),\n",
       " ('mary', 0.6714458465576172),\n",
       " ('crown', 0.6487224102020264),\n",
       " ('regent', 0.6361138224601746),\n",
       " ('victoria', 0.6308573484420776),\n",
       " ('scotland', 0.6207189559936523)]"
      ]
     },
     "execution_count": 19,
     "metadata": {},
     "output_type": "execute_result"
    }
   ],
   "source": [
    "model.wv.most_similar(\"queen\")"
   ]
  },
  {
   "cell_type": "markdown",
   "metadata": {},
   "source": [
    " "
   ]
  },
  {
   "cell_type": "markdown",
   "metadata": {},
   "source": [
    " "
   ]
  },
  {
   "cell_type": "markdown",
   "metadata": {},
   "source": [
    " "
   ]
  },
  {
   "cell_type": "markdown",
   "metadata": {},
   "source": [
    " "
   ]
  },
  {
   "cell_type": "markdown",
   "metadata": {},
   "source": [
    " "
   ]
  },
  {
   "cell_type": "markdown",
   "metadata": {},
   "source": [
    " "
   ]
  },
  {
   "cell_type": "markdown",
   "metadata": {},
   "source": [
    " "
   ]
  },
  {
   "cell_type": "markdown",
   "metadata": {},
   "source": [
    " "
   ]
  },
  {
   "cell_type": "markdown",
   "metadata": {},
   "source": [
    "#### Semantic regularities captured in word embeddings"
   ]
  },
  {
   "cell_type": "code",
   "execution_count": 20,
   "metadata": {},
   "outputs": [
    {
     "data": {
      "text/plain": [
       "[('queen', 0.6840208172798157),\n",
       " ('empress', 0.6219109296798706),\n",
       " ('throne', 0.6173564791679382),\n",
       " ('prince', 0.608352780342102),\n",
       " ('isabella', 0.6021651029586792)]"
      ]
     },
     "execution_count": 20,
     "metadata": {},
     "output_type": "execute_result"
    }
   ],
   "source": [
    "model.wv.most_similar(positive=['woman', 'king'], negative=['man'], topn=5)"
   ]
  },
  {
   "cell_type": "code",
   "execution_count": 21,
   "metadata": {},
   "outputs": [
    {
     "data": {
      "text/plain": [
       "[('heroine', 0.616025984287262),\n",
       " ('prostitute', 0.6081883907318115),\n",
       " ('idol', 0.5952854156494141),\n",
       " ('legendary', 0.5947390198707581),\n",
       " ('protagonist', 0.5928424596786499)]"
      ]
     },
     "execution_count": 21,
     "metadata": {},
     "output_type": "execute_result"
    }
   ],
   "source": [
    "model.wv.most_similar(positive=['woman', 'hero'], negative=['man'], topn=5)"
   ]
  },
  {
   "cell_type": "markdown",
   "metadata": {},
   "source": [
    "### Visualizing these word vectors"
   ]
  },
  {
   "cell_type": "code",
   "execution_count": 22,
   "metadata": {},
   "outputs": [],
   "source": [
    "X = model.wv[model.wv.vocab]"
   ]
  },
  {
   "cell_type": "markdown",
   "metadata": {},
   "source": [
    "##### We'll use PCA to reduce and visualize in 2 dimensions"
   ]
  },
  {
   "cell_type": "code",
   "execution_count": 23,
   "metadata": {},
   "outputs": [],
   "source": [
    "from sklearn.decomposition import PCA"
   ]
  },
  {
   "cell_type": "code",
   "execution_count": 24,
   "metadata": {},
   "outputs": [],
   "source": [
    "pca = PCA(n_components=2)\n",
    "result = pca.fit_transform(X)"
   ]
  },
  {
   "cell_type": "markdown",
   "metadata": {},
   "source": [
    "Randomly select 100 words"
   ]
  },
  {
   "cell_type": "code",
   "execution_count": 25,
   "metadata": {},
   "outputs": [],
   "source": [
    "import random\n",
    "random.seed(2)"
   ]
  },
  {
   "cell_type": "code",
   "execution_count": 26,
   "metadata": {
    "scrolled": true
   },
   "outputs": [],
   "source": [
    "ind = random.sample(range(0,len(X)),100)\n",
    "result_random = result[ind]\n",
    "all_words = list(model.wv.vocab)\n",
    "words = [all_words[i] for i in ind]"
   ]
  },
  {
   "cell_type": "code",
   "execution_count": 27,
   "metadata": {},
   "outputs": [
    {
     "data": {
      "image/png": "[encoded data removed]",
      "text/plain": [
       "<matplotlib.figure.Figure at 0x1b3c09d5320>"
      ]
     },
     "metadata": {},
     "output_type": "display_data"
    }
   ],
   "source": [
    "plt.figure(figsize=(12,12))\n",
    "plt.scatter(result_random[:,0], result_random[:,1])\n",
    "for i, word in enumerate(words):\n",
    "    plt.annotate(word, xy=(result_random[i, 0], result_random[i, 1]))\n",
    "plt.show()"
   ]
  },
  {
   "cell_type": "markdown",
   "metadata": {},
   "source": [
    "## Effect of vector dimension"
   ]
  },
  {
   "cell_type": "markdown",
   "metadata": {},
   "source": [
    "#### Reducing the length to 50"
   ]
  },
  {
   "cell_type": "code",
   "execution_count": 28,
   "metadata": {},
   "outputs": [],
   "source": [
    "model = Word2Vec(sentences, size=50)"
   ]
  },
  {
   "cell_type": "code",
   "execution_count": 29,
   "metadata": {},
   "outputs": [
    {
     "data": {
      "text/plain": [
       "[('credit', 0.7749031782150269),\n",
       " ('profits', 0.7630359530448914),\n",
       " ('payments', 0.7601578235626221),\n",
       " ('funds', 0.7482980489730835),\n",
       " ('payment', 0.7458642721176147),\n",
       " ('buying', 0.740655779838562),\n",
       " ('funding', 0.7278717756271362),\n",
       " ('royalties', 0.7243766784667969),\n",
       " ('compensation', 0.7162990570068359),\n",
       " ('cash', 0.7137691378593445)]"
      ]
     },
     "execution_count": 29,
     "metadata": {},
     "output_type": "execute_result"
    }
   ],
   "source": [
    "model.wv.most_similar(\"money\")"
   ]
  },
  {
   "cell_type": "code",
   "execution_count": 30,
   "metadata": {},
   "outputs": [
    {
     "data": {
      "text/plain": [
       "[('princess', 0.8178762197494507),\n",
       " ('prince', 0.7901657819747925),\n",
       " ('elizabeth', 0.7800765037536621),\n",
       " ('consort', 0.7511759996414185),\n",
       " ('king', 0.749069333076477)]"
      ]
     },
     "execution_count": 30,
     "metadata": {},
     "output_type": "execute_result"
    }
   ],
   "source": [
    "model.wv.most_similar(\"queen\", topn=5)"
   ]
  },
  {
   "cell_type": "code",
   "execution_count": 31,
   "metadata": {
    "scrolled": true
   },
   "outputs": [
    {
     "data": {
      "text/plain": [
       "[('son', 0.7252576351165771),\n",
       " ('emperor', 0.7196565866470337),\n",
       " ('empress', 0.7127126455307007),\n",
       " ('prince', 0.7010271549224854),\n",
       " ('consul', 0.6959669589996338)]"
      ]
     },
     "execution_count": 31,
     "metadata": {},
     "output_type": "execute_result"
    }
   ],
   "source": [
    "model.wv.most_similar(positive=['woman', 'king'], negative=['man'], topn=5)"
   ]
  },
  {
   "cell_type": "markdown",
   "metadata": {},
   "source": [
    " "
   ]
  },
  {
   "cell_type": "markdown",
   "metadata": {},
   "source": [
    " "
   ]
  },
  {
   "cell_type": "markdown",
   "metadata": {},
   "source": [
    " "
   ]
  },
  {
   "cell_type": "markdown",
   "metadata": {},
   "source": [
    " "
   ]
  },
  {
   "cell_type": "markdown",
   "metadata": {},
   "source": [
    " "
   ]
  },
  {
   "cell_type": "markdown",
   "metadata": {},
   "source": [
    " "
   ]
  },
  {
   "cell_type": "markdown",
   "metadata": {},
   "source": [
    " "
   ]
  },
  {
   "cell_type": "markdown",
   "metadata": {},
   "source": [
    "#### Inreasing vector length to 300"
   ]
  },
  {
   "cell_type": "code",
   "execution_count": 32,
   "metadata": {},
   "outputs": [],
   "source": [
    "model = word2vec.Word2Vec(sentences, size = 300)"
   ]
  },
  {
   "cell_type": "code",
   "execution_count": 33,
   "metadata": {},
   "outputs": [
    {
     "data": {
      "text/plain": [
       "[('profits', 0.6928111910820007),\n",
       " ('payment', 0.6729538440704346),\n",
       " ('credit', 0.6579656600952148),\n",
       " ('pay', 0.6506925821304321),\n",
       " ('cash', 0.6456228494644165),\n",
       " ('funds', 0.6420317888259888),\n",
       " ('royalties', 0.6407206654548645),\n",
       " ('buying', 0.63724684715271),\n",
       " ('compensation', 0.6291826367378235),\n",
       " ('tax', 0.627536416053772)]"
      ]
     },
     "execution_count": 33,
     "metadata": {},
     "output_type": "execute_result"
    }
   ],
   "source": [
    "model.wv.most_similar(\"money\")"
   ]
  },
  {
   "cell_type": "code",
   "execution_count": 34,
   "metadata": {
    "scrolled": true
   },
   "outputs": [
    {
     "data": {
      "text/plain": [
       "[('princess', 0.7339257001876831),\n",
       " ('elizabeth', 0.7328122854232788),\n",
       " ('prince', 0.6782915592193604),\n",
       " ('king', 0.6441730260848999),\n",
       " ('duchess', 0.6219522953033447),\n",
       " ('victoria', 0.6153103113174438),\n",
       " ('coronation', 0.6120136976242065),\n",
       " ('consort', 0.6039739847183228),\n",
       " ('crown', 0.5990657210350037),\n",
       " ('mary', 0.5956826210021973)]"
      ]
     },
     "execution_count": 34,
     "metadata": {},
     "output_type": "execute_result"
    }
   ],
   "source": [
    "model.wv.most_similar(\"queen\")"
   ]
  },
  {
   "cell_type": "code",
   "execution_count": 35,
   "metadata": {
    "scrolled": true
   },
   "outputs": [
    {
     "data": {
      "text/plain": [
       "[('queen', 0.6542671322822571),\n",
       " ('throne', 0.566440761089325),\n",
       " ('elizabeth', 0.5646956562995911),\n",
       " ('princess', 0.5616539716720581),\n",
       " ('prince', 0.5571869611740112)]"
      ]
     },
     "execution_count": 35,
     "metadata": {},
     "output_type": "execute_result"
    }
   ],
   "source": [
    "model.wv.most_similar(positive=['woman', 'king'], negative=['man'], topn=5)"
   ]
  },
  {
   "cell_type": "markdown",
   "metadata": {},
   "source": [
    "## Skip gram vs CBOW"
   ]
  },
  {
   "cell_type": "markdown",
   "metadata": {},
   "source": [
    "Simply put, the CBOW model learns the embedding by predicting the current word based on its context. The skip-gram model learns by predicting the surrounding words given a current word."
   ]
  },
  {
   "cell_type": "markdown",
   "metadata": {},
   "source": [
    "![](https://3qeqpr26caki16dnhd19sv6by6v-wpengine.netdna-ssl.com/wp-content/uploads/2017/08/Word2Vec-Training-Models.png)"
   ]
  },
  {
   "cell_type": "markdown",
   "metadata": {},
   "source": [
    "#### Using Skipgram method"
   ]
  },
  {
   "cell_type": "code",
   "execution_count": 18,
   "metadata": {},
   "outputs": [],
   "source": [
    "model_sg = word2vec.Word2Vec(sentences, size=100,sg=1)"
   ]
  },
  {
   "cell_type": "code",
   "execution_count": 37,
   "metadata": {},
   "outputs": [
    {
     "data": {
      "text/plain": [
       "[('profits', 0.7717832326889038),\n",
       " ('credit', 0.7680127620697021),\n",
       " ('dividends', 0.7644673585891724),\n",
       " ('lending', 0.7474843263626099),\n",
       " ('payments', 0.7473185062408447),\n",
       " ('repayment', 0.7424572706222534),\n",
       " ('purchases', 0.7375417947769165),\n",
       " ('debts', 0.7345573902130127),\n",
       " ('repay', 0.7332794666290283),\n",
       " ('specie', 0.7287542819976807)]"
      ]
     },
     "execution_count": 37,
     "metadata": {},
     "output_type": "execute_result"
    }
   ],
   "source": [
    "model_sg.wv.most_similar(\"money\")"
   ]
  },
  {
   "cell_type": "code",
   "execution_count": 38,
   "metadata": {},
   "outputs": [
    {
     "data": {
      "text/plain": [
       "[('elizabeth', 0.8099689483642578),\n",
       " ('highness', 0.7497283220291138),\n",
       " ('consort', 0.7457442879676819),\n",
       " ('prince', 0.7451012134552002),\n",
       " ('regnant', 0.7396278381347656),\n",
       " ('king', 0.7383483052253723),\n",
       " ('princess', 0.7273576855659485),\n",
       " ('isabella', 0.7213452458381653),\n",
       " ('boleyn', 0.7120567560195923),\n",
       " ('victoria', 0.7040907144546509)]"
      ]
     },
     "execution_count": 38,
     "metadata": {},
     "output_type": "execute_result"
    }
   ],
   "source": [
    "model_sg.wv.most_similar(\"queen\")"
   ]
  },
  {
   "cell_type": "code",
   "execution_count": 39,
   "metadata": {},
   "outputs": [
    {
     "data": {
      "text/plain": [
       "[('queen', 0.6945860385894775),\n",
       " ('throne', 0.6385061144828796),\n",
       " ('daughter', 0.6328675150871277),\n",
       " ('matilda', 0.6277235746383667),\n",
       " ('prince', 0.6240294575691223)]"
      ]
     },
     "execution_count": 39,
     "metadata": {},
     "output_type": "execute_result"
    }
   ],
   "source": [
    "model_sg.wv.most_similar(positive=['woman', 'king'], negative=['man'], topn=5)"
   ]
  },
  {
   "cell_type": "code",
   "execution_count": 40,
   "metadata": {},
   "outputs": [
    {
     "data": {
      "text/plain": [
       "[('sinuous', 0.9162383675575256),\n",
       " ('basaltic', 0.9003928899765015),\n",
       " ('undulating', 0.8956737518310547),\n",
       " ('watercourses', 0.8892335891723633),\n",
       " ('troughs', 0.886396050453186),\n",
       " ('uplifted', 0.8850730061531067),\n",
       " ('wadis', 0.8814519643783569),\n",
       " ('eskers', 0.8808999061584473),\n",
       " ('featureless', 0.8780666589736938),\n",
       " ('steeper', 0.8779410123825073)]"
      ]
     },
     "execution_count": 40,
     "metadata": {},
     "output_type": "execute_result"
    }
   ],
   "source": [
    "model_sg.wv.most_similar(\"meandering\")"
   ]
  },
  {
   "cell_type": "markdown",
   "metadata": {},
   "source": [
    "#### Learning:\n",
    "In CBOW the vectors from the context words are averaged before predicting the center word. In skip-gram there is no averaging of embedding vectors. It seems like the model can learn better representations for the rare words when their vectors are not averaged with the other context words in the process of making the predictions. "
   ]
  },
  {
   "cell_type": "markdown",
   "metadata": {},
   "source": [
    "## Word vectors trained on different contexts\n",
    " - We'll load different corpora, from different contexts and see how the embeddings vary\n",
    " - The text8 corpus is wikipedia pages, while Brown corpus is from 15 different topics, and movie reviews are from IMDB"
   ]
  },
  {
   "cell_type": "code",
   "execution_count": 3,
   "metadata": {},
   "outputs": [],
   "source": [
    "from nltk.corpus import brown, movie_reviews"
   ]
  },
  {
   "cell_type": "code",
   "execution_count": 4,
   "metadata": {},
   "outputs": [],
   "source": [
    "model_brown = Word2Vec(brown.sents(), sg=1)\n",
    "model_movie = Word2Vec(movie_reviews.sents(), sg=1, window=5)"
   ]
  },
  {
   "cell_type": "code",
   "execution_count": 19,
   "metadata": {},
   "outputs": [
    {
     "data": {
      "text/plain": [
       "[('credit', 0.7894318699836731),\n",
       " ('repay', 0.7640762329101562),\n",
       " ('dividends', 0.761493444442749),\n",
       " ('taxes', 0.746096134185791),\n",
       " ('dues', 0.7369773387908936)]"
      ]
     },
     "execution_count": 19,
     "metadata": {},
     "output_type": "execute_result"
    }
   ],
   "source": [
    "model_sg.wv.most_similar('money', topn=5)"
   ]
  },
  {
   "cell_type": "code",
   "execution_count": 20,
   "metadata": {},
   "outputs": [
    {
     "data": {
      "text/plain": [
       "[('job', 0.8540072441101074),\n",
       " ('care', 0.8358042240142822),\n",
       " ('friendship', 0.8346329927444458),\n",
       " ('chances', 0.8208808898925781),\n",
       " ('luck', 0.8194456100463867)]"
      ]
     },
     "execution_count": 20,
     "metadata": {},
     "output_type": "execute_result"
    }
   ],
   "source": [
    "model_brown.wv.most_similar('money', topn=5)"
   ]
  },
  {
   "cell_type": "code",
   "execution_count": 21,
   "metadata": {},
   "outputs": [
    {
     "data": {
      "text/plain": [
       "[('cash', 0.7520744800567627),\n",
       " ('risk', 0.7156755328178406),\n",
       " ('record', 0.7119412422180176),\n",
       " ('ransom', 0.7030180096626282),\n",
       " ('nose', 0.6833670139312744)]"
      ]
     },
     "execution_count": 21,
     "metadata": {},
     "output_type": "execute_result"
    }
   ],
   "source": [
    "model_movie.wv.most_similar('money', topn=5)"
   ]
  },
  {
   "cell_type": "markdown",
   "metadata": {},
   "source": [
    " \n",
    "I hope it’s pretty clear from the above examples that the semantic similarity of words can vary greatly depending on the textual context. "
   ]
  },
  {
   "cell_type": "markdown",
   "metadata": {},
   "source": [
    "## Using pre-trained word vectors"
   ]
  },
  {
   "cell_type": "markdown",
   "metadata": {},
   "source": [
    "### A quick note on Glove:\n",
    "   - Developed by Stanford by training on 6 Billion tokens\n",
    "   - Objective is slightly different\n",
    "   - End result very similar to Google's word2vec"
   ]
  },
  {
   "cell_type": "markdown",
   "metadata": {},
   "source": [
    "https://nlp.stanford.edu/projects/glove/"
   ]
  },
  {
   "cell_type": "markdown",
   "metadata": {},
   "source": [
    "- We'll use the 100D vectors for this example.\n",
    "- The trained vectors are available in a text file\n",
    "- The format is slightly different from that of word2vec, necessitating the use of a utility to format accordingly"
   ]
  },
  {
   "cell_type": "code",
   "execution_count": 6,
   "metadata": {},
   "outputs": [
    {
     "data": {
      "text/plain": [
       "(400000, 100)"
      ]
     },
     "execution_count": 6,
     "metadata": {},
     "output_type": "execute_result"
    }
   ],
   "source": [
    "from gensim.scripts.glove2word2vec import glove2word2vec\n",
    "glove_input_file = 'glove.6B.100d.txt'\n",
    "word2vec_output_file = 'glove.6B.100d.w2vformat.txt'\n",
    "glove2word2vec(glove_input_file, word2vec_output_file)"
   ]
  },
  {
   "cell_type": "code",
   "execution_count": 7,
   "metadata": {},
   "outputs": [],
   "source": [
    "from gensim.models.keyedvectors import KeyedVectors\n",
    "glove_model = KeyedVectors.load_word2vec_format(\"glove.6B.100d.w2vformat.txt\", binary=False)"
   ]
  },
  {
   "cell_type": "markdown",
   "metadata": {},
   "source": [
    "#### Now you can use all the methods you used with word2vec models"
   ]
  },
  {
   "cell_type": "code",
   "execution_count": 13,
   "metadata": {},
   "outputs": [
    {
     "data": {
      "text/plain": [
       "[('prince', 0.7682329416275024),\n",
       " ('queen', 0.7507690787315369),\n",
       " ('son', 0.7020887732505798),\n",
       " ('brother', 0.6985775232315063),\n",
       " ('monarch', 0.6977890729904175),\n",
       " ('throne', 0.691999077796936),\n",
       " ('kingdom', 0.6811410188674927),\n",
       " ('father', 0.680202841758728),\n",
       " ('emperor', 0.6712858080863953),\n",
       " ('ii', 0.6676074266433716)]"
      ]
     },
     "execution_count": 13,
     "metadata": {},
     "output_type": "execute_result"
    }
   ],
   "source": [
    "glove_model.most_similar(\"king\")"
   ]
  },
  {
   "cell_type": "code",
   "execution_count": 14,
   "metadata": {},
   "outputs": [
    {
     "data": {
      "text/plain": [
       "[('queen', 0.7698541283607483),\n",
       " ('monarch', 0.6843380928039551),\n",
       " ('throne', 0.6755737066268921),\n",
       " ('daughter', 0.6594556570053101),\n",
       " ('princess', 0.6520533561706543)]"
      ]
     },
     "execution_count": 14,
     "metadata": {},
     "output_type": "execute_result"
    }
   ],
   "source": [
    "glove_model.most_similar(positive=['woman', 'king'], negative=['man'], topn=5)"
   ]
  },
  {
   "cell_type": "code",
   "execution_count": 15,
   "metadata": {},
   "outputs": [
    {
     "data": {
      "text/plain": [
       "[('heroine', 0.7324979305267334),\n",
       " ('heroes', 0.6356217861175537),\n",
       " ('icon', 0.6185224056243896),\n",
       " ('beloved', 0.6136684417724609),\n",
       " ('herself', 0.5904075503349304)]"
      ]
     },
     "execution_count": 15,
     "metadata": {},
     "output_type": "execute_result"
    }
   ],
   "source": [
    "glove_model.most_similar(positive=['woman', 'hero'], negative=['man'], topn=5)"
   ]
  }
 ],
 "metadata": {
  "kernelspec": {
   "display_name": "Python 3",
   "language": "python",
   "name": "python3"
  },
  "language_info": {
   "codemirror_mode": {
    "name": "ipython",
    "version": 3
   },
   "file_extension": ".py",
   "mimetype": "text/x-python",
   "name": "python",
   "nbconvert_exporter": "python",
   "pygments_lexer": "ipython3",
   "version": "3.6.3"
  }
 },
 "nbformat": 4,
 "nbformat_minor": 2
}

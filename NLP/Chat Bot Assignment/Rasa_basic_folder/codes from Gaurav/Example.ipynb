{
 "cells": [
  {
   "cell_type": "code",
   "execution_count": 8,
   "metadata": {},
   "outputs": [],
   "source": [
    "import Search"
   ]
  },
  {
   "cell_type": "code",
   "execution_count": 9,
   "metadata": {},
   "outputs": [
    {
     "name": "stdout",
     "output_type": "stream",
     "text": [
      "#300 to 700\n",
      "#300 to 700\n",
      "#300 to 700\n",
      "#300 to 700\n"
     ]
    },
    {
     "data": {
      "text/plain": [
       "\"1. Fat Guyy Pâtisserie in D.P.Colony, Vivek Vihar Metro Station, Opposite Pillar 95, New Sanganer Road, Sodala, Jaipur has been rated 4.7.\\n\\n2. The Rustic Spot Cafe in 21/62A, Bhrigu Path, OppositeMetro Yard, Mansarovar, Jaipur has been rated 4.5.\\n\\n3. Praddy's Diner in D-29, Subhash Marg, C Scheme, Jaipur has been rated 4.4.\\n\\n4. Rock the Salt in C-288, Near TPS School, Amrapali circle, Vaishali Nagar, Jaipur has been rated 4.3.\\n\\n\""
      ]
     },
     "execution_count": 9,
     "metadata": {},
     "output_type": "execute_result"
    }
   ],
   "source": [
    "Search.SearchRestaurants.get_top_five('Jaipur','South Indian',2)"
   ]
  },
  {
   "cell_type": "code",
   "execution_count": null,
   "metadata": {},
   "outputs": [
    {
     "name": "stdout",
     "output_type": "stream",
     "text": [
      "# more than 700\n",
      "# more than 700\n",
      "# more than 700\n",
      "# more than 700\n",
      "# more than 700\n",
      "# more than 700\n",
      "# more than 700\n",
      "# more than 700\n",
      "# more than 700\n",
      "# more than 700\n"
     ]
    }
   ],
   "source": [
    "Search.SearchRestaurants.email_top_ten('Bangalore','North Indian',3,'chatbot.rasa@gmail.com')"
   ]
  },
  {
   "cell_type": "code",
   "execution_count": null,
   "metadata": {
    "collapsed": true
   },
   "outputs": [],
   "source": []
  }
 ],
 "metadata": {
  "kernelspec": {
   "display_name": "Python 3",
   "language": "python",
   "name": "python3"
  },
  "language_info": {
   "codemirror_mode": {
    "name": "ipython",
    "version": 3
   },
   "file_extension": ".py",
   "mimetype": "text/x-python",
   "name": "python",
   "nbconvert_exporter": "python",
   "pygments_lexer": "ipython3",
   "version": "3.6.3"
  }
 },
 "nbformat": 4,
 "nbformat_minor": 2
}
